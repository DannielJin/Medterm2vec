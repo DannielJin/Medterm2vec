{
 "cells": [
  {
   "cell_type": "code",
   "execution_count": 1,
   "metadata": {},
   "outputs": [
    {
     "name": "stdout",
     "output_type": "stream",
     "text": [
      "\n",
      "\n",
      "@@@@@@@@@@@@@@@@@@@@@@@@@@@@@@@@@@@@@@@@@@@@@@@@@@@@@@@@@@@@@@@@@@@@@@@@@@@@@@@@@@@@@@@@@@@@@@@@@@@@\n",
      "@@@@@@@@@@@@@@@@@@@@@@@@@@@@@@@@@@@@@@@@@@@@@@@@@@@@@@@@@@@@@@@@@@@@@@@@@@@@@@@@@@@@@@@@@@@@@@@@@@@@\n",
      "\n",
      "2018-09-27 11:26:55.561954\n",
      "\n",
      "[Start Logging..]\n",
      "\n",
      "\n",
      "\n",
      " (params) \n",
      "\n",
      "====================================================================================================\n",
      "\n",
      "\n",
      "[Level 4] Multihot to Dataset\n",
      "\n",
      "\n",
      "2018-09-27 11:26:55.568109\n",
      "\n",
      "  [multihot_to_datasets]\n",
      "\n",
      "Loading at.. ../../TEST/DATA/t_pid_list.pkl\n",
      "Loading at.. ../../TEST/DATA/t_seq_data.pkl\n",
      "Loading at.. ../../TEST/DATA/t_demo_data.pkl\n",
      "Loading at.. ../../TEST/DATA/t_seq_len.pkl\n",
      "Loading at.. ../../TEST/DATA/c_pid_list.pkl\n",
      "Loading at.. ../../TEST/DATA/c_seq_data.pkl\n",
      "Loading at.. ../../TEST/DATA/c_demo_data.pkl\n",
      "Loading at.. ../../TEST/DATA/c_seq_len.pkl\n",
      "\n",
      "Number of T: 3335\n",
      "Number of C: 20010\n",
      "\n",
      "    (Split data)\n",
      "\n",
      "    (Making datasets)\n",
      "\n",
      "[Datasets Info.]\n",
      "\n",
      "                  [OPTION]   [VALUE]\n",
      "              CDM_DB_NAME:   NHIS_NSC\n",
      "       CONFIG_FOLDER_PATH:   ../../TEST/CONFIG/\n",
      "         DATA_FOLDER_PATH:   ../../TEST/DATA/\n",
      "         DB_CONN_FILENAME:   DB_connection.txt\n",
      "      DS_PARAMS_FILE_NAME:   DS_PARAMS.txt\n",
      "             FEATURE_SIZE:   7085\n",
      "               LABEL_SIZE:   2\n",
      "            MAX_TIME_STEP:   30\n",
      "           RESULT_DB_NAME:   sequence_datasetmaker\n",
      "       RESULT_FOLDER_PATH:   ../../TEST/RESULT/\n",
      "\n",
      "[ALL DONE!!]\n",
      "\n",
      "\n"
     ]
    }
   ],
   "source": [
    "from cdm_datasetmaker import Get_datasets\n",
    "datasets = Get_datasets(CONFIG_FOLDER_PATH = '../../TEST/CONFIG/',\n",
    "                        DATA_FOLDER_PATH = '../../TEST/DATA/',\n",
    "                        RESULT_FOLDER_PATH = '../../TEST/RESULT/',\n",
    "                        PROJECT_NAME = 'emb_test',\n",
    "                        DB_CONN_FILENAME = 'DB_connection.txt',\n",
    "                        DS_PARAMS_FILE_NAME = 'DS_PARAMS.txt', \n",
    "                        PIPELINE_START_LEVEL = 4)"
   ]
  },
  {
   "cell_type": "code",
   "execution_count": null,
   "metadata": {},
   "outputs": [],
   "source": []
  },
  {
   "cell_type": "code",
   "execution_count": null,
   "metadata": {},
   "outputs": [],
   "source": []
  },
  {
   "cell_type": "code",
   "execution_count": 1,
   "metadata": {},
   "outputs": [],
   "source": [
    "import os, sys, logging, datetime\n",
    "\n",
    "param_dict = dict()\n",
    "param_dict['DATA_FOLDER_PATH'] = '../../../NEW/cdm_datasetmaker/DATA/'\n",
    "param_dict['RESULT_FOLDER_PATH'] = './RESULT/'\n",
    "\n",
    "if not os.path.exists(param_dict['RESULT_FOLDER_PATH']): os.makedirs(param_dict['RESULT_FOLDER_PATH'])\n",
    "\n",
    "## logger\n",
    "rootlogger = logging.getLogger()\n",
    "rootlogger.setLevel(logging.INFO)\n",
    "# log_stream\n",
    "stream_hander = logging.StreamHandler(sys.stdout)\n",
    "rootlogger.addHandler(stream_hander)\n",
    "# log_file    \n",
    "param_dict['LOG_PATH'] = os.path.join('./RESULT', 'test_pipeline.log')\n",
    "file_handler = logging.FileHandler(filename=param_dict['LOG_PATH'])\n",
    "rootlogger.addHandler(file_handler)"
   ]
  },
  {
   "cell_type": "code",
   "execution_count": 2,
   "metadata": {},
   "outputs": [],
   "source": [
    "import cdm_datasetmaker "
   ]
  },
  {
   "cell_type": "code",
   "execution_count": 3,
   "metadata": {},
   "outputs": [
    {
     "name": "stdout",
     "output_type": "stream",
     "text": [
      "Loading at.. ../../../NEW/cdm_datasetmaker/DATA/t_pid_list.pkl\n",
      "Loading at.. ../../../NEW/cdm_datasetmaker/DATA/t_seq_data.pkl\n",
      "Loading at.. ../../../NEW/cdm_datasetmaker/DATA/t_demo_data.pkl\n",
      "Loading at.. ../../../NEW/cdm_datasetmaker/DATA/t_seq_len.pkl\n",
      "Loading at.. ../../../NEW/cdm_datasetmaker/DATA/c_pid_list.pkl\n",
      "Loading at.. ../../../NEW/cdm_datasetmaker/DATA/c_seq_data.pkl\n",
      "Loading at.. ../../../NEW/cdm_datasetmaker/DATA/c_demo_data.pkl\n",
      "Loading at.. ../../../NEW/cdm_datasetmaker/DATA/c_seq_len.pkl\n",
      "\n",
      "Number of T: 3335\n",
      "Number of C: 20010\n"
     ]
    }
   ],
   "source": [
    "t_data, c_data = cdm_datasetmaker.multihot2datasets.load_data(rootlogger, param_dict['DATA_FOLDER_PATH'])"
   ]
  },
  {
   "cell_type": "code",
   "execution_count": 6,
   "metadata": {},
   "outputs": [
    {
     "data": {
      "text/plain": [
       "array([[1, 1, 0, 0, 0],\n",
       "       [1, 1, 1, 0, 0],\n",
       "       [0, 0, 0, 0, 1],\n",
       "       [1, 0, 0, 1, 0],\n",
       "       [0, 0, 0, 0, 0],\n",
       "       [0, 0, 0, 0, 0],\n",
       "       [0, 0, 0, 0, 0],\n",
       "       [0, 0, 0, 0, 0],\n",
       "       [0, 0, 0, 0, 0],\n",
       "       [0, 0, 0, 0, 0]], dtype=int64)"
      ]
     },
     "execution_count": 6,
     "metadata": {},
     "output_type": "execute_result"
    }
   ],
   "source": [
    "from scipy.sparse import csr_matrix\n",
    "import numpy as np\n",
    "\n",
    "rid_list = [0,0,1,1,1,2,3,3]\n",
    "cid_list = [0,1,0,1,2,4,3,0]\n",
    "data = [1,1,1,1,1,1,1,1]\n",
    "seq_len = max(rid_list)+1\n",
    "m = csr_matrix((data, (rid_list, cid_list)), shape=(10, 5))\n",
    "m.toarray()"
   ]
  },
  {
   "cell_type": "code",
   "execution_count": null,
   "metadata": {},
   "outputs": [],
   "source": []
  },
  {
   "cell_type": "code",
   "execution_count": 3,
   "metadata": {},
   "outputs": [
    {
     "name": "stdout",
     "output_type": "stream",
     "text": [
      "Overwriting emb_dataset.py\n"
     ]
    }
   ],
   "source": [
    "%%writefile emb_dataset.py\n",
    "\n",
    "from utils import dumpingFiles, loadingFiles, option_printer\n",
    "\n",
    "def edge_extractor(logger, seq_data, seq_len, left_context_size, right_context_size, directed):\n",
    "    import pandas as pd\n",
    "    from collections import defaultdict\n",
    "    edge_dict = defaultdict(float)\n",
    "    \n",
    "    data_len = len(seq_len)\n",
    "    printBy = int(data_len/10)\n",
    "    for i, (sprs_m, l) in enumerate(zip(seq_data, seq_len)):\n",
    "        if (((i+1)%printBy)==0) or i==0: \n",
    "            logger.info(\"  ..({}/{})\".format(i+1, data_len))\n",
    "        vseq = sprs_m[:l]\n",
    "        source_size = vseq.shape[0]\n",
    "        for s_idx in range(source_size):\n",
    "            source_list = vseq[s_idx].indices\n",
    "            # in visit\n",
    "            for s1 in source_list:\n",
    "                for s2 in source_list:\n",
    "                    discounted_value = 1\n",
    "                    if s1 != s2:\n",
    "                        edge_dict[(s1, s2)] += discounted_value\n",
    "            # between visits\n",
    "            target = vseq[s_idx]\n",
    "            left_context_list = vseq[max(0,s_idx-left_context_size) : s_idx]\n",
    "            right_context_list = vseq[s_idx+1 : min((s_idx+right_context_size)+1, source_size)]\n",
    "            #left\n",
    "            for idx, contexts in enumerate(left_context_list[::-1]):\n",
    "                discounted_value = 1/(idx+1)\n",
    "                for t in target.indices:\n",
    "                    for c in contexts.indices:\n",
    "                        edge_dict[(t, c)] += discounted_value\n",
    "            #right\n",
    "            for idx, contexts in enumerate(right_context_list):\n",
    "                discounted_value = 1/(idx+1)\n",
    "                for t in target.indices:\n",
    "                    for c in contexts.indices:\n",
    "                        edge_dict[(t, c)] += discounted_value\n",
    "\n",
    "    if not directed:\n",
    "        new_dict = dict()\n",
    "        for (t, c), v in edge_dict.items():\n",
    "            if (c, t) in new_dict.keys():\n",
    "                new_dict[(c, t)] += v\n",
    "            else:\n",
    "                new_dict[(t, c)] = v\n",
    "        edge_dict = new_dict\n",
    "    \n",
    "    df_edge = pd.DataFrame([[s, t, v] for (s, t), v in edge_dict.items()], \n",
    "                           columns=['source', 'target', 'value']).astype({'source':'int', 'target':'int'})\n",
    "    return df_edge\n",
    "\n",
    "class Graph_DataSet():\n",
    "    def __init__(self, df, code2idx):\n",
    "        self._num_examples = len(df)\n",
    "        self._epochs_completed = 0\n",
    "        self._index_in_epoch = 0\n",
    "        self.code2idx = code2idx\n",
    "        self.targets = df.iloc[:,0].values\n",
    "        self.contexts = df.iloc[:,1].values\n",
    "        self.scaled_scores = df.iloc[:,2].values\n",
    "         \n",
    "    def _shuffle(self, targets, contexts, scaled_scores):\n",
    "        import sklearn as sk\n",
    "        return sk.utils.shuffle(targets, contexts, scaled_scores)\n",
    "    \n",
    "    def get_adj_matrix(self):\n",
    "        import numpy as np\n",
    "        adj_matrix = np.zeros([len(self.code2idx), len(self.code2idx)])\n",
    "        for t, c, v in zip(self.targets, self.contexts, self.scaled_scores):\n",
    "            adj_matrix[t, c] = v\n",
    "            adj_matrix[c, t] = v\n",
    "        return adj_matrix\n",
    "\n",
    "    def next_batch(self, batch_size):\n",
    "        start = self._index_in_epoch\n",
    "        self._index_in_epoch += batch_size\n",
    "        end = self._index_in_epoch\n",
    "        if end<=self._num_examples:\n",
    "            return self.targets[start:end], self.contexts[start:end], self.scaled_scores[start:end]\n",
    "        else:\n",
    "            self._epochs_completed += 1\n",
    "            num_of_short = batch_size-(self._num_examples-start)\n",
    "            num_of_extra_batch = num_of_short // self._num_examples\n",
    "            num_of_extra_example = num_of_short % self._num_examples\n",
    "            self._epochs_completed += num_of_extra_batch\n",
    "            self._index_in_epoch = num_of_extra_example\n",
    "\n",
    "            tmp_targets=self.targets[start:]; tmp_contexts=self.contexts[start:]; tmp_scaled_scores=self.scaled_scores[start:]      \n",
    "            self.targets, self.contexts, self.scaled_scores = self._shuffle(self.targets, self.contexts, self.scaled_scores)\n",
    "            batch_targets = np.concatenate([tmp_targets]+[self.targets]*num_of_extra_batch\n",
    "                                           +[self.targets[0:num_of_extra_example]], axis=0)\n",
    "            batch_contexts = np.concatenate([tmp_contexts]+[self.contexts]*num_of_extra_batch\n",
    "                                            +[self.contexts[0:num_of_extra_example]], axis=0)\n",
    "            batch_scaled_scores = np.concatenate([tmp_scaled_scores]+[self.scaled_scores]*num_of_extra_batch\n",
    "                                                 +[self.scaled_scores[0:num_of_extra_example]], axis=0)\n",
    "            return batch_targets, batch_contexts, batch_scaled_scores \n",
    "\n",
    "def Get_emb_dataset(**kwargs):\n",
    "    import logging, datetime, os\n",
    "    logger = logging.getLogger('emb_dataset')\n",
    "    if not os.path.exists(kwargs['RESULT_FOLDER_PATH']): os.makedirs(kwargs['RESULT_FOLDER_PATH'])\n",
    "    file_handler = logging.FileHandler(filename=os.path.join(kwargs['RESULT_FOLDER_PATH'], 'emb_dataset.log'))\n",
    "    logger.addHandler(file_handler)\n",
    "    logger.info(\"\\n{}\".format(datetime.datetime.now()))\n",
    "    logger.info(\"[Get_emb_dataset]\")\n",
    "    \n",
    "    #extracting df_edge\n",
    "    if kwargs['SKIP_EDGE_EXTRACTING']:\n",
    "        logger.info(\"\\n  (skip edge_extracting)\")\n",
    "        df_edge = loadingFiles(logger, kwargs['DATA_FOLDER_PATH'], 'df_edge.pkl')\n",
    "    else:\n",
    "        logger.info(\"\\n  (extracting df_edge)\")\n",
    "        seq_data = loadingFiles(logger, kwargs['DATA_FOLDER_PATH'], 't_seq_data.pkl') + loadingFiles(logger, kwargs['DATA_FOLDER_PATH'], 'c_seq_data.pkl')\n",
    "        seq_len = loadingFiles(logger, kwargs['DATA_FOLDER_PATH'], 't_seq_len.pkl') + loadingFiles(logger, kwargs['DATA_FOLDER_PATH'], 'c_seq_len.pkl')\n",
    "        df_edge = edge_extractor(logger, seq_data, seq_len, kwargs['LEFT_CONTEXT_SIZE'], kwargs['RIGHT_CONTEXT_SIZE'], kwargs['DIRECTED'])\n",
    "        #ceiling and scaling.\n",
    "        dumpingFiles(logger, kwargs['DATA_FOLDER_PATH'], 'df_edge.pkl', df_edge)\n",
    "    \n",
    "    #make dataset\n",
    "    logger.info(\"\\n  (make emb_dataset)\")\n",
    "    code2idx = loadingFiles(logger, kwargs['DATA_FOLDER_PATH'], 'code2idx.pkl')\n",
    "    dataset = Graph_DataSet(df_edge, code2idx)\n",
    "    dataset.info = dict()\n",
    "    dataset.info['DATA_FOLDER_PATH'] = kwargs['DATA_FOLDER_PATH']\n",
    "    dataset.info['RESULT_FOLDER_PATH'] = kwargs['RESULT_FOLDER_PATH']\n",
    "    dataset.info['LEFT_CONTEXT_SIZE'] = kwargs['LEFT_CONTEXT_SIZE']\n",
    "    dataset.info['RIGHT_CONTEXT_SIZE'] = kwargs['RIGHT_CONTEXT_SIZE']\n",
    "    dataset.info['DIRECTED'] = kwargs['DIRECTED']\n",
    "    dataset.info['FEATURE_SIZE'] = len(code2idx)\n",
    "    return dataset\n",
    "    \n",
    "    "
   ]
  },
  {
   "cell_type": "code",
   "execution_count": 1,
   "metadata": {},
   "outputs": [
    {
     "name": "stdout",
     "output_type": "stream",
     "text": [
      "\n",
      "\n",
      "@@@@@@@@@@@@@@@@@@@@@@@@@@@@@@@@@@@@@@@@@@@@@@@@@@@@@@@@@@@@@@@@@@@@@@@@@@@@@@@@@@@@@@@@@@@@@@@@@@@@\n",
      "@@@@@@@@@@@@@@@@@@@@@@@@@@@@@@@@@@@@@@@@@@@@@@@@@@@@@@@@@@@@@@@@@@@@@@@@@@@@@@@@@@@@@@@@@@@@@@@@@@@@\n",
      "\n",
      "\n",
      "2018-09-12 23:36:51.142612\n",
      "[Pipeline Started..]\n",
      "\n",
      "\n"
     ]
    }
   ],
   "source": [
    "param_dict = dict()\n",
    "param_dict['RESULT_FOLDER_PATH'] = '../../cdm_datasetmaker/RESULT/'\n",
    "\n",
    "import logging, datetime, sys, os\n",
    "\n",
    "## logger\n",
    "rootlogger = logging.getLogger()\n",
    "rootlogger.setLevel(logging.INFO)\n",
    "# log_stream\n",
    "stream_hander = logging.StreamHandler(sys.stdout)\n",
    "rootlogger.addHandler(stream_hander)\n",
    "# log_file    \n",
    "param_dict['LOG_PATH'] = os.path.join(param_dict['RESULT_FOLDER_PATH'], 'medterm2vec_pipeline.log')\n",
    "file_handler = logging.FileHandler(filename=param_dict['LOG_PATH'])\n",
    "rootlogger.addHandler(file_handler)\n",
    "rootlogger.info(\"\\n\\n\" + \"@\"*100 + \"\\n\" + \"@\"*100)\n",
    "rootlogger.info(\"\\n\\n{}\\n[Pipeline Started..]\\n\\n\".format(datetime.datetime.now()))\n",
    "\n",
    "\n",
    "## Get_dataset\n",
    "\n",
    "#from .utils import option_printer\n",
    "#rootlogger.info(\"\\n[Datasets Info.]\\n\")\n",
    "#option_printer(rootlogger, **param_dict['DATASETS'].info)\n"
   ]
  },
  {
   "cell_type": "code",
   "execution_count": 1,
   "metadata": {},
   "outputs": [],
   "source": [
    "from emb_dataset import Get_emb_dataset\n",
    "\n",
    "emb_dataset = Get_emb_dataset(DATA_FOLDER_PATH = '../../cdm_datasetmaker/DATA/',\n",
    "                              RESULT_FOLDER_PATH = '../../cdm_datasetmaker/RESULT/',\n",
    "                              LEFT_CONTEXT_SIZE = 2,\n",
    "                              RIGHT_CONTEXT_SIZE = 2,\n",
    "                              DIRECTED = False,\n",
    "                              SKIP_EDGE_EXTRACTING = True)"
   ]
  },
  {
   "cell_type": "code",
   "execution_count": null,
   "metadata": {},
   "outputs": [],
   "source": []
  },
  {
   "cell_type": "code",
   "execution_count": 6,
   "metadata": {},
   "outputs": [
    {
     "name": "stdout",
     "output_type": "stream",
     "text": [
      "Overwriting ../CONFIG/EMB_PARAMS.txt\n"
     ]
    }
   ],
   "source": [
    "%%writefile ../CONFIG/EMB_PARAMS.txt\n",
    "# about edge_extracting\n",
    "CDM_DB_NAME = NHIS_NSC\n",
    "LEFT_CONTEXT_SIZE = 2\n",
    "RIGHT_CONTEXT_SIZE = 2\n",
    "DIRECTED = False\n",
    "\n",
    "# about emb_model\n",
    "MODEL_ARCH = LINE_MODEL\n",
    "BATCH_SIZE = 128\n",
    "EMB_SIZE = 32, 64\n",
    "LR_p1 = 5e-1, 5e-2\n",
    "LR_p2 = 5e-2\n",
    "DECAY_STEPS = 1000\n",
    "DECAY_RATE = 0.9\n",
    "TRAIN_STEPS_p1 = 1000\n",
    "TRAIN_STEPS_p2 = 1000\n",
    "PRINT_BY = 2000\n"
   ]
  },
  {
   "cell_type": "code",
   "execution_count": null,
   "metadata": {},
   "outputs": [],
   "source": []
  },
  {
   "cell_type": "code",
   "execution_count": null,
   "metadata": {},
   "outputs": [],
   "source": []
  },
  {
   "cell_type": "code",
   "execution_count": null,
   "metadata": {},
   "outputs": [],
   "source": []
  },
  {
   "cell_type": "code",
   "execution_count": null,
   "metadata": {},
   "outputs": [],
   "source": []
  },
  {
   "cell_type": "code",
   "execution_count": null,
   "metadata": {},
   "outputs": [],
   "source": []
  },
  {
   "cell_type": "code",
   "execution_count": null,
   "metadata": {},
   "outputs": [],
   "source": []
  },
  {
   "cell_type": "code",
   "execution_count": 2,
   "metadata": {},
   "outputs": [
    {
     "name": "stdout",
     "output_type": "stream",
     "text": [
      "\n",
      " (Params) \n",
      "\n",
      "                [OPTION]   [VALUE]\n",
      "              DATA_PATH:   ../../DATA/\n",
      "               TR_RATIO:   0.8\n",
      "\n",
      "[DATASETS]\n",
      "\n",
      "  (rawSeq -> multihot)\n",
      "\n",
      "  (multihot -> datasets)\n",
      "\n",
      "\n",
      "[Creating_dataSets]\n",
      "\n",
      "Loading at.. ../../DATA/t_pid_list.pkl\n",
      "Loading at.. ../../DATA/t_seq_data.pkl\n",
      "Loading at.. ../../DATA/t_demo_data.pkl\n",
      "Loading at.. ../../DATA/t_seq_len.pkl\n",
      "Loading at.. ../../DATA/c_pid_list.pkl\n",
      "Loading at.. ../../DATA/c_seq_data.pkl\n",
      "Loading at.. ../../DATA/c_demo_data.pkl\n",
      "Loading at.. ../../DATA/c_seq_len.pkl\n",
      "\n",
      "Number of T:  3335 \n",
      "Number of C:  20010\n",
      "\n",
      "(Split data)\n",
      "{'MAX_TIME_STEP': 30, 'LABEL_SIZE': 2, 'FEATURE_SIZE': 7090}\n",
      "\n",
      "[Model Setting]\n",
      "\n",
      "\n",
      "ALL DONE!!\n"
     ]
    }
   ],
   "source": [
    "from pipeline import sequence_analyzer_pipeline\n",
    "\n",
    "#sequence_analyzer_pipeline(DATA_PATH = '../../DATA/',\n",
    "#                           #MAX_TIME_STEP = 30,\n",
    "#                           #DX_ONLY = False,\n",
    "#                           TR_RATIO = 0.8)\n",
    "\n",
    "datasets = sequence_analyzer_pipeline(DATA_PATH = '../../DATA/',\n",
    "                           #MAX_TIME_STEP = 30,\n",
    "                           #DX_ONLY = False,\n",
    "                           TR_RATIO = 0.8)"
   ]
  },
  {
   "cell_type": "code",
   "execution_count": 3,
   "metadata": {
    "scrolled": true
   },
   "outputs": [
    {
     "name": "stdout",
     "output_type": "stream",
     "text": [
      "  [!] EMB_MATRIX => False; EMB_MATRIX.shape[0](7000)!=FEATURE_SIZE(7090)\n",
      "  [!] EMB_MATRIX => False; EMB_MATRIX.shape[0](7000)!=FEATURE_SIZE(7090)\n",
      "  [!] EMB_MATRIX => False; EMB_MATRIX.shape[0](7000)!=FEATURE_SIZE(7090)\n",
      "  [!] EMB_MATRIX => False; EMB_MATRIX.shape[0](7000)!=FEATURE_SIZE(7090)\n",
      "  [!] EMB_MATRIX => False; EMB_MATRIX.shape[0](7000)!=FEATURE_SIZE(7090)\n",
      "  [!] EMB_MATRIX => False; EMB_MATRIX.shape[0](7000)!=FEATURE_SIZE(7090)\n",
      "  [!] EMB_MATRIX => False; EMB_MATRIX.shape[0](7000)!=FEATURE_SIZE(7090)\n",
      "  [!] EMB_MATRIX => False; EMB_MATRIX.shape[0](7000)!=FEATURE_SIZE(7090)\n"
     ]
    },
    {
     "name": "stderr",
     "output_type": "stream",
     "text": [
      "\r",
      "  0%|          | 0/4 [00:00<?, ?it/s]"
     ]
    },
    {
     "name": "stdout",
     "output_type": "stream",
     "text": [
      "\n",
      "[INPUT_LAYERS]\n",
      "\tinputs: Tensor(\"Input_Layer/Inputs:0\", shape=(128, 30, 7090), dtype=float32)\n",
      "\tlabels: Tensor(\"Input_Layer/Labels:0\", shape=(128, 2), dtype=float32)\n",
      "\tdemo: Tensor(\"Input_Layer/Demo:0\", shape=(128, 30, 2), dtype=float32)\n",
      "\tseq_lens: Tensor(\"Input_Layer/Seq_lens:0\", shape=(128,), dtype=int32)\n",
      "\tkeep_prob: Tensor(\"Input_Layer/Keep_prob:0\", shape=(), dtype=float32)\n",
      "\n",
      "[EMB_LAYERS]\n",
      "\tW_emb: <tf.Variable 'Inference/EMB_Layer/W_emb:0' shape=(7090, 128) dtype=float32_ref>\n",
      "\temb_inputs: Tensor(\"Inference/EMB_Layer/Emb_inputs:0\", shape=(128, 30, 128), dtype=float32)\n",
      "\temb_and_demo: Tensor(\"Inference/EMB_Layer/emb_and_demo:0\", shape=(128, 30, 130), dtype=float32)\n",
      "\n",
      "[RNN_LAYERS]\n",
      "\tRNN_cells: <tensorflow.python.ops.rnn_cell_impl.MultiRNNCell object at 0x7ff4954e1048>\n",
      "\tRNN_outputs: Tensor(\"Inference/RNN_Layer/rnn/transpose_1:0\", shape=(128, 30, 128), dtype=float32)\n",
      "\tRNN_outputs_last: Tensor(\"Inference/RNN_Layer/RNN_outputs_last:0\", shape=(128, 128), dtype=float32)\n",
      "\n",
      "[PREDICTION_LAYERS]\n",
      "\tW_pred: <tf.Variable 'Inference/Pred_Layer/W_pred:0' shape=(128, 2) dtype=float32_ref>\n",
      "\tb_pred: <tf.Variable 'Inference/Pred_Layer/b_pred:0' shape=() dtype=float32_ref>\n",
      "\tlogits: Tensor(\"Inference/Pred_Layer/Logits:0\", shape=(128, 2), dtype=float32)\n",
      "\tpred: Tensor(\"Inference/Pred_Layer/pred:0\", shape=(128, 2), dtype=float32)\n",
      "\n",
      "[LOSS]\n",
      "\txentropy_BF: Tensor(\"Loss/Xentropy_BF/Reshape_2:0\", shape=(128,), dtype=float32)\n",
      "\txentropy_mean: Tensor(\"Loss/xentropy_mean:0\", shape=(), dtype=float32)\n",
      "\tloss_reg: Tensor(\"Loss/loss_l2reg:0\", shape=(), dtype=float32)\n",
      "\tloss: Tensor(\"Loss/Loss:0\", shape=(), dtype=float32)\n"
     ]
    },
    {
     "name": "stderr",
     "output_type": "stream",
     "text": [
      "\r",
      " 25%|██▌       | 1/4 [00:00<00:02,  1.20it/s]"
     ]
    },
    {
     "name": "stdout",
     "output_type": "stream",
     "text": [
      "\n",
      "[ACCUARCY]\n",
      "\taccuracy: Tensor(\"Evaluation/Accuracy:0\", shape=(), dtype=float32)\n",
      "\n",
      "[INPUT_LAYERS]\n",
      "\tinputs: Tensor(\"Input_Layer/Inputs:0\", shape=(128, 30, 7090), dtype=float32)\n",
      "\tlabels: Tensor(\"Input_Layer/Labels:0\", shape=(128, 2), dtype=float32)\n",
      "\tdemo: Tensor(\"Input_Layer/Demo:0\", shape=(128, 30, 2), dtype=float32)\n",
      "\tseq_lens: Tensor(\"Input_Layer/Seq_lens:0\", shape=(128,), dtype=int32)\n",
      "\tkeep_prob: Tensor(\"Input_Layer/Keep_prob:0\", shape=(), dtype=float32)\n",
      "\n",
      "[EMB_LAYERS]\n",
      "\tW_emb: <tf.Variable 'Inference/EMB_Layer/W_emb:0' shape=(7090, 128) dtype=float32_ref>\n",
      "\temb_inputs: Tensor(\"Inference/EMB_Layer/Emb_inputs:0\", shape=(128, 30, 128), dtype=float32)\n",
      "\temb_and_demo: Tensor(\"Inference/EMB_Layer/emb_and_demo:0\", shape=(128, 30, 130), dtype=float32)\n",
      "\n",
      "[RNN_LAYERS]\n",
      "\tRNN_cells: <tensorflow.python.ops.rnn_cell_impl.MultiRNNCell object at 0x7ff495399668>\n",
      "\tRNN_outputs: Tensor(\"Inference/RNN_Layer/rnn/transpose_1:0\", shape=(128, 30, 128), dtype=float32)\n",
      "\tRNN_outputs_last: Tensor(\"Inference/RNN_Layer/RNN_outputs_last:0\", shape=(128, 128), dtype=float32)\n",
      "\n",
      "[PREDICTION_LAYERS]\n",
      "\tW_pred: <tf.Variable 'Inference/Pred_Layer/W_pred:0' shape=(128, 2) dtype=float32_ref>\n",
      "\tb_pred: <tf.Variable 'Inference/Pred_Layer/b_pred:0' shape=() dtype=float32_ref>\n",
      "\tlogits: Tensor(\"Inference/Pred_Layer/Logits:0\", shape=(128, 2), dtype=float32)\n",
      "\tpred: Tensor(\"Inference/Pred_Layer/pred:0\", shape=(128, 2), dtype=float32)\n",
      "\n",
      "[LOSS]\n",
      "\txentropy_BF: Tensor(\"Loss/Xentropy_BF/Reshape_2:0\", shape=(128,), dtype=float32)\n",
      "\txentropy_mean: Tensor(\"Loss/xentropy_mean:0\", shape=(), dtype=float32)\n",
      "\tloss_reg: Tensor(\"Loss/loss_l2reg:0\", shape=(), dtype=float32)\n",
      "\tloss: Tensor(\"Loss/Loss:0\", shape=(), dtype=float32)\n"
     ]
    },
    {
     "name": "stderr",
     "output_type": "stream",
     "text": [
      "\r",
      " 50%|█████     | 2/4 [00:01<00:01,  1.20it/s]"
     ]
    },
    {
     "name": "stdout",
     "output_type": "stream",
     "text": [
      "\n",
      "[ACCUARCY]\n",
      "\taccuracy: Tensor(\"Evaluation/Accuracy:0\", shape=(), dtype=float32)\n",
      "\n",
      "[INPUT_LAYERS]\n",
      "\tinputs: Tensor(\"Input_Layer/Inputs:0\", shape=(256, 30, 7090), dtype=float32)\n",
      "\tlabels: Tensor(\"Input_Layer/Labels:0\", shape=(256, 2), dtype=float32)\n",
      "\tdemo: Tensor(\"Input_Layer/Demo:0\", shape=(256, 30, 2), dtype=float32)\n",
      "\tseq_lens: Tensor(\"Input_Layer/Seq_lens:0\", shape=(256,), dtype=int32)\n",
      "\tkeep_prob: Tensor(\"Input_Layer/Keep_prob:0\", shape=(), dtype=float32)\n",
      "\n",
      "[EMB_LAYERS]\n",
      "\tW_emb: <tf.Variable 'Inference/EMB_Layer/W_emb:0' shape=(7090, 128) dtype=float32_ref>\n",
      "\temb_inputs: Tensor(\"Inference/EMB_Layer/Emb_inputs:0\", shape=(256, 30, 128), dtype=float32)\n",
      "\temb_and_demo: Tensor(\"Inference/EMB_Layer/emb_and_demo:0\", shape=(256, 30, 130), dtype=float32)\n",
      "\n",
      "[RNN_LAYERS]\n",
      "\tRNN_cells: <tensorflow.python.ops.rnn_cell_impl.MultiRNNCell object at 0x7ff49524cf28>\n",
      "\tRNN_outputs: Tensor(\"Inference/RNN_Layer/rnn/transpose_1:0\", shape=(256, 30, 128), dtype=float32)\n",
      "\tRNN_outputs_last: Tensor(\"Inference/RNN_Layer/RNN_outputs_last:0\", shape=(256, 128), dtype=float32)\n",
      "\n",
      "[PREDICTION_LAYERS]\n",
      "\tW_pred: <tf.Variable 'Inference/Pred_Layer/W_pred:0' shape=(128, 2) dtype=float32_ref>\n",
      "\tb_pred: <tf.Variable 'Inference/Pred_Layer/b_pred:0' shape=() dtype=float32_ref>\n",
      "\tlogits: Tensor(\"Inference/Pred_Layer/Logits:0\", shape=(256, 2), dtype=float32)\n",
      "\tpred: Tensor(\"Inference/Pred_Layer/pred:0\", shape=(256, 2), dtype=float32)\n",
      "\n",
      "[LOSS]\n",
      "\txentropy_BF: Tensor(\"Loss/Xentropy_BF/Reshape_2:0\", shape=(256,), dtype=float32)\n",
      "\txentropy_mean: Tensor(\"Loss/xentropy_mean:0\", shape=(), dtype=float32)\n",
      "\tloss_reg: Tensor(\"Loss/loss_l2reg:0\", shape=(), dtype=float32)\n",
      "\tloss: Tensor(\"Loss/Loss:0\", shape=(), dtype=float32)\n"
     ]
    },
    {
     "name": "stderr",
     "output_type": "stream",
     "text": [
      "\r",
      " 75%|███████▌  | 3/4 [00:02<00:00,  1.13it/s]"
     ]
    },
    {
     "name": "stdout",
     "output_type": "stream",
     "text": [
      "\n",
      "[ACCUARCY]\n",
      "\taccuracy: Tensor(\"Evaluation/Accuracy:0\", shape=(), dtype=float32)\n",
      "\n",
      "[INPUT_LAYERS]\n",
      "\tinputs: Tensor(\"Input_Layer/Inputs:0\", shape=(256, 30, 7090), dtype=float32)\n",
      "\tlabels: Tensor(\"Input_Layer/Labels:0\", shape=(256, 2), dtype=float32)\n",
      "\tdemo: Tensor(\"Input_Layer/Demo:0\", shape=(256, 30, 2), dtype=float32)\n",
      "\tseq_lens: Tensor(\"Input_Layer/Seq_lens:0\", shape=(256,), dtype=int32)\n",
      "\tkeep_prob: Tensor(\"Input_Layer/Keep_prob:0\", shape=(), dtype=float32)\n",
      "\n",
      "[EMB_LAYERS]\n",
      "\tW_emb: <tf.Variable 'Inference/EMB_Layer/W_emb:0' shape=(7090, 128) dtype=float32_ref>\n",
      "\temb_inputs: Tensor(\"Inference/EMB_Layer/Emb_inputs:0\", shape=(256, 30, 128), dtype=float32)\n",
      "\temb_and_demo: Tensor(\"Inference/EMB_Layer/emb_and_demo:0\", shape=(256, 30, 130), dtype=float32)\n",
      "\n",
      "[RNN_LAYERS]\n",
      "\tRNN_cells: <tensorflow.python.ops.rnn_cell_impl.MultiRNNCell object at 0x7ff4951536d8>\n",
      "\tRNN_outputs: Tensor(\"Inference/RNN_Layer/rnn/transpose_1:0\", shape=(256, 30, 128), dtype=float32)\n",
      "\tRNN_outputs_last: Tensor(\"Inference/RNN_Layer/RNN_outputs_last:0\", shape=(256, 128), dtype=float32)\n",
      "\n",
      "[PREDICTION_LAYERS]\n",
      "\tW_pred: <tf.Variable 'Inference/Pred_Layer/W_pred:0' shape=(128, 2) dtype=float32_ref>\n",
      "\tb_pred: <tf.Variable 'Inference/Pred_Layer/b_pred:0' shape=() dtype=float32_ref>\n",
      "\tlogits: Tensor(\"Inference/Pred_Layer/Logits:0\", shape=(256, 2), dtype=float32)\n",
      "\tpred: Tensor(\"Inference/Pred_Layer/pred:0\", shape=(256, 2), dtype=float32)\n",
      "\n",
      "[LOSS]\n",
      "\txentropy_BF: Tensor(\"Loss/Xentropy_BF/Reshape_2:0\", shape=(256,), dtype=float32)\n",
      "\txentropy_mean: Tensor(\"Loss/xentropy_mean:0\", shape=(), dtype=float32)\n",
      "\tloss_reg: Tensor(\"Loss/loss_l2reg:0\", shape=(), dtype=float32)\n",
      "\tloss: Tensor(\"Loss/Loss:0\", shape=(), dtype=float32)\n"
     ]
    },
    {
     "name": "stderr",
     "output_type": "stream",
     "text": [
      "\r",
      "100%|██████████| 4/4 [00:03<00:00,  1.15it/s]"
     ]
    },
    {
     "name": "stdout",
     "output_type": "stream",
     "text": [
      "\n",
      "[ACCUARCY]\n",
      "\taccuracy: Tensor(\"Evaluation/Accuracy:0\", shape=(), dtype=float32)\n"
     ]
    },
    {
     "name": "stderr",
     "output_type": "stream",
     "text": [
      "\n"
     ]
    }
   ],
   "source": [
    "def PARAMS_parser(FILE_NAME, CONFIG_PATH='../CONFIG'):\n",
    "    import os, re\n",
    "    FILE_PATH = os.path.join(CONFIG_PATH, FILE_NAME)\n",
    "    param_dict = dict()\n",
    "    with open(FILE_PATH, 'r') as f:\n",
    "        lines = f.readlines()\n",
    "        for line in lines:\n",
    "            try: #remove comments\n",
    "                cut_idx = re.search('#.*', line).start()\n",
    "                line = line[:cut_idx]\n",
    "            except:\n",
    "                pass\n",
    "            \n",
    "            particles = [p.strip() for p in line.split('=', maxsplit=1)]\n",
    "            if len(particles)==1:\n",
    "                continue\n",
    "            key = particles[0]\n",
    "            val = particles[1:][0]\n",
    "            if ',' in val: # multiple items -> list\n",
    "                val = [v.strip() for v in val.split(',')]  \n",
    "            else:\n",
    "                try: \n",
    "                    val = int(val)\n",
    "                except: \n",
    "                    try: val = float(val)\n",
    "                    except: \n",
    "                        if val in ['True', 'TRUE']: val = True\n",
    "                        elif val in ['False', 'FALSE']: val = False\n",
    "                        else: val = val \n",
    "            param_dict[key] = val\n",
    "    return param_dict\n",
    "\n",
    "def param_dict_to_flag_grid(param_dict):\n",
    "    flag_grid = dict()\n",
    "    arch_num_set = {int(k.split('_')[2]) for k in sa_param_dict.keys() if 'RNN_ARCH_' in k}\n",
    "    \n",
    "    flag_grid['RNN_ARCH'] = [dict() for _ in range(len(arch_num_set))]\n",
    "    for k, v in param_dict.items():\n",
    "        if k=='DATASETS':\n",
    "            continue\n",
    "        if type(v)==list:\n",
    "            new_v = []\n",
    "            for v_item in v:\n",
    "                try: new_v.append(int(v_item))\n",
    "                except:\n",
    "                    try: new_v.append(float(v_item))\n",
    "                    except:\n",
    "                        if v_item in ['True', 'TRUE']: new_v.append(True)\n",
    "                        elif v_item in ['False', 'FALSE']: new_v.append(False)\n",
    "                        else: new_v.append(v_item)\n",
    "                            \n",
    "        if 'RNN_ARCH_' in k:\n",
    "            arch_num_idx = int(k.split('_')[2])-1\n",
    "            opt_name = '_'.join(k.split('_')[3:])\n",
    "            if opt_name=='cell_type':\n",
    "                flag_grid['RNN_ARCH'][arch_num_idx][opt_name] = v\n",
    "            else:\n",
    "                flag_grid['RNN_ARCH'][arch_num_idx][opt_name] = new_v\n",
    "        elif type(v)==list:\n",
    "            flag_grid[k] = new_v\n",
    "        else:\n",
    "            flag_grid[k] = [v]\n",
    "    return flag_grid\n",
    "\n",
    "def Get_model_list(flag_grid, datasets_info):\n",
    "    #update flag_grid with datasets_info\n",
    "    flag_grid['MAX_TIME_STEP'] = [datasets_info['MAX_TIME_STEP']]\n",
    "    flag_grid['FEATURE_SIZE'] = [datasets_info['FEATURE_SIZE']]\n",
    "    flag_grid['LABEL_SIZE'] = [datasets_info['LABEL_SIZE']]\n",
    "    \n",
    "    #flag_grid to flag_list\n",
    "    from itertools import product\n",
    "    flag_list = [dict(list(zip(list(flag_grid.keys()), values))) \n",
    "                 for values in list(product(*flag_grid.values()))]\n",
    "    \n",
    "    #check_validation\n",
    "    flag_list_new = []\n",
    "    for flag in flag_list:\n",
    "        if 'EMB_MATRIX' in flag.keys():\n",
    "            emb_matrix_shape = flag['EMB_MATRIX'].split('.pkl')[0].split('_')[-2:]\n",
    "            \n",
    "            #val_conditions\n",
    "            cond1 = int(emb_matrix_shape[0])==flag['FEATURE_SIZE']\n",
    "            cond2 = int(emb_matrix_shape[1])==flag['EMB_SIZE']\n",
    "            if not cond1:\n",
    "                print(\"  [!] EMB_MATRIX => False; EMB_MATRIX.shape[0]({})!=FEATURE_SIZE({})\"\n",
    "                      .format(emb_matrix_shape[0], flag['FEATURE_SIZE']))\n",
    "                flag['EMB_MATRIX'] = False\n",
    "            elif not cond2:\n",
    "                print(\"  [!] EMB_MATRIX => False; EMB_MATRIX.shape[1]({})!=EMB_SIZE({})\"\n",
    "                      .format(emb_matrix_shape[1], flag['EMB_SIZE']))\n",
    "                flag['EMB_MATRIX'] = False\n",
    "        flag_list_new.append(flag)\n",
    "    \n",
    "    #remove duplicated flag\n",
    "    flag_list_new_unique = []\n",
    "    for d_item in flag_list_new:\n",
    "        if d_item not in flag_list_new_unique:\n",
    "            flag_list_new_unique.append(d_item)\n",
    "            \n",
    "    #make model_list\n",
    "    from tqdm import tqdm\n",
    "    from Model import RNN_MODEL\n",
    "    MODEL_DICT = {'RNN_MODEL': RNN_MODEL}\n",
    "    return [MODEL_DICT[flag['MODEL_ARCH']](flag) for flag in tqdm(flag_list_new_unique)]\n",
    "\n",
    "\n",
    "\n",
    "sa_param_dict = PARAMS_parser(FILE_NAME='SA_PARAMS.txt', CONFIG_PATH='../../CONFIG')\n",
    "sa_param_dict['DATASETS'] = datasets\n",
    "\n",
    "flag_grid = param_dict_to_flag_grid(sa_param_dict)\n",
    "model_list = Get_model_list(flag_grid, datasets.info)"
   ]
  },
  {
   "cell_type": "code",
   "execution_count": 4,
   "metadata": {
    "scrolled": true
   },
   "outputs": [
    {
     "name": "stdout",
     "output_type": "stream",
     "text": [
      "\n",
      "Previous Logs removed\n",
      "\n",
      "\n",
      "\t[@] MODEL-(0/3) Training.. \n",
      "\n",
      "{'LR': 0.0005, 'DECAY_RATE': 0.9, 'EMB_SIZE': 128, 'FEATURE_SIZE': 7090, 'DECAY_STEPS': 1000, 'SAVE_BY': 1000000, 'MODEL_ARCH': 'RNN_MODEL', 'RNN_ARCH': {'hidden_size': [64, 128], 'drop_out': [False, True], 'cell_type': 'GRU'}, 'LABEL_SIZE': 2, 'MAX_TIME_STEP': 30, 'KEEP_PROB': 0.5, 'BATCH_SIZE': 128, 'L2_REG': 0.001, 'PRINT_BY': 200, 'TRAIN_STEPS': 100, 'EMB_MATRIX': False}\n",
      "\n"
     ]
    },
    {
     "name": "stderr",
     "output_type": "stream",
     "text": [
      "\r",
      "  0%|          | 0/100 [00:00<?, ?it/s]"
     ]
    },
    {
     "name": "stdout",
     "output_type": "stream",
     "text": [
      "[@] New game..\n",
      "\n",
      "training..\n",
      "\n"
     ]
    },
    {
     "name": "stderr",
     "output_type": "stream",
     "text": [
      "\r",
      "  1%|          | 1/100 [00:01<03:13,  1.95s/it]"
     ]
    },
    {
     "name": "stdout",
     "output_type": "stream",
     "text": [
      "[G-1]  LOSS (1.4013/1.4081)  ACC (0.51/0.50) LR (0.000500)\n"
     ]
    },
    {
     "name": "stderr",
     "output_type": "stream",
     "text": [
      "100%|██████████| 100/100 [00:41<00:00,  2.40it/s]\n"
     ]
    },
    {
     "name": "stdout",
     "output_type": "stream",
     "text": [
      " [*] Saving checkpoints... ../../RESULT/Sequence_Analyzer/NHIS_NSC/MODEL_0\n",
      "\n",
      "[DONE@@]\n",
      "\n",
      "\t[@] MODEL-(1/3) Training.. \n",
      "\n",
      "{'LR': 0.0005, 'DECAY_RATE': 0.9, 'EMB_SIZE': 128, 'FEATURE_SIZE': 7090, 'DECAY_STEPS': 1000, 'SAVE_BY': 1000000, 'MODEL_ARCH': 'RNN_MODEL', 'RNN_ARCH': {'hidden_size': [64, 128], 'drop_out': [False, True], 'cell_type': 'GRU'}, 'LABEL_SIZE': 2, 'MAX_TIME_STEP': 30, 'KEEP_PROB': 0.5, 'BATCH_SIZE': 256, 'L2_REG': 0.001, 'PRINT_BY': 200, 'TRAIN_STEPS': 100, 'EMB_MATRIX': False}\n",
      "\n"
     ]
    },
    {
     "name": "stderr",
     "output_type": "stream",
     "text": [
      "\r",
      "  0%|          | 0/100 [00:00<?, ?it/s]"
     ]
    },
    {
     "name": "stdout",
     "output_type": "stream",
     "text": [
      "[@] New game..\n",
      "\n",
      "training..\n",
      "\n"
     ]
    },
    {
     "name": "stderr",
     "output_type": "stream",
     "text": [
      "\r",
      "  1%|          | 1/100 [00:03<05:05,  3.09s/it]"
     ]
    },
    {
     "name": "stdout",
     "output_type": "stream",
     "text": [
      "[G-1]  LOSS (1.4038/1.4068)  ACC (0.52/0.50) LR (0.000500)\n"
     ]
    },
    {
     "name": "stderr",
     "output_type": "stream",
     "text": [
      "\n"
     ]
    },
    {
     "ename": "KeyboardInterrupt",
     "evalue": "",
     "output_type": "error",
     "traceback": [
      "\u001b[0;31m---------------------------------------------------------------------------\u001b[0m",
      "\u001b[0;31mKeyboardInterrupt\u001b[0m                         Traceback (most recent call last)",
      "\u001b[0;32m<ipython-input-4-77cc0b94fa2a>\u001b[0m in \u001b[0;36m<module>\u001b[0;34m()\u001b[0m\n\u001b[1;32m      7\u001b[0m                  \u001b[0mDB_NAME\u001b[0m \u001b[0;34m=\u001b[0m \u001b[0;34m'NHIS_NSC'\u001b[0m\u001b[0;34m,\u001b[0m\u001b[0;34m\u001b[0m\u001b[0m\n\u001b[1;32m      8\u001b[0m                  \u001b[0mnew_game\u001b[0m \u001b[0;34m=\u001b[0m \u001b[0;32mTrue\u001b[0m\u001b[0;34m,\u001b[0m\u001b[0;34m\u001b[0m\u001b[0m\n\u001b[0;32m----> 9\u001b[0;31m                  verbose = True)\n\u001b[0m",
      "\u001b[0;32m~/scripts/NEW/DLMSAA/src/sequence_anlayzer/Train.py\u001b[0m in \u001b[0;36mTrain_model_list\u001b[0;34m(MODEL_LIST, DATASETS, RESULT_BASE_PATH, PROJECT_NAME, DB_NAME, new_game, verbose)\u001b[0m\n\u001b[1;32m    205\u001b[0m \u001b[0;34m\u001b[0m\u001b[0m\n\u001b[1;32m    206\u001b[0m         \u001b[0;31m# training\u001b[0m\u001b[0;34m\u001b[0m\u001b[0;34m\u001b[0m\u001b[0m\n\u001b[0;32m--> 207\u001b[0;31m         \u001b[0mTrain_model\u001b[0m\u001b[0;34m(\u001b[0m\u001b[0mDATASETS\u001b[0m\u001b[0;34m,\u001b[0m \u001b[0mmodel\u001b[0m\u001b[0;34m,\u001b[0m \u001b[0mlogPath\u001b[0m\u001b[0;34m,\u001b[0m \u001b[0mnew_game\u001b[0m\u001b[0;34m,\u001b[0m \u001b[0mverbose\u001b[0m\u001b[0;34m)\u001b[0m\u001b[0;34m\u001b[0m\u001b[0m\n\u001b[0m\u001b[1;32m    208\u001b[0m     \u001b[0mprint\u001b[0m\u001b[0;34m(\u001b[0m\u001b[0;34m\"\\n[ALL DONE]\"\u001b[0m\u001b[0;34m)\u001b[0m\u001b[0;34m\u001b[0m\u001b[0m\n\u001b[1;32m    209\u001b[0m \u001b[0;34m\u001b[0m\u001b[0m\n",
      "\u001b[0;32m~/scripts/NEW/DLMSAA/src/sequence_anlayzer/Train.py\u001b[0m in \u001b[0;36mTrain_model\u001b[0;34m(dataSets, model, logPath, new_game, verbose)\u001b[0m\n\u001b[1;32m     28\u001b[0m                             \u001b[0mmodel\u001b[0m\u001b[0;34m.\u001b[0m\u001b[0mtensorDict\u001b[0m\u001b[0;34m[\u001b[0m\u001b[0;34m'seq_lens'\u001b[0m\u001b[0;34m]\u001b[0m\u001b[0;34m:\u001b[0m \u001b[0mbatch_train_data\u001b[0m\u001b[0;34m[\u001b[0m\u001b[0;36m4\u001b[0m\u001b[0;34m]\u001b[0m\u001b[0;34m,\u001b[0m\u001b[0;34m\u001b[0m\u001b[0m\n\u001b[1;32m     29\u001b[0m                             model.tensorDict['keep_prob']: model.flag['KEEP_PROB']}\n\u001b[0;32m---> 30\u001b[0;31m             \u001b[0m_\u001b[0m \u001b[0;34m=\u001b[0m \u001b[0msess\u001b[0m\u001b[0;34m.\u001b[0m\u001b[0mrun\u001b[0m\u001b[0;34m(\u001b[0m\u001b[0mmodel\u001b[0m\u001b[0;34m.\u001b[0m\u001b[0mtensorDict\u001b[0m\u001b[0;34m[\u001b[0m\u001b[0;34m'trainOp'\u001b[0m\u001b[0;34m]\u001b[0m\u001b[0;34m,\u001b[0m \u001b[0mfeed_dict\u001b[0m\u001b[0;34m=\u001b[0m\u001b[0mtr_feed_dict\u001b[0m\u001b[0;34m)\u001b[0m\u001b[0;34m\u001b[0m\u001b[0m\n\u001b[0m\u001b[1;32m     31\u001b[0m \u001b[0;34m\u001b[0m\u001b[0m\n\u001b[1;32m     32\u001b[0m             \u001b[0;32mif\u001b[0m \u001b[0;34m(\u001b[0m\u001b[0mi\u001b[0m\u001b[0;34m%\u001b[0m\u001b[0mmodel\u001b[0m\u001b[0;34m.\u001b[0m\u001b[0mflag\u001b[0m\u001b[0;34m[\u001b[0m\u001b[0;34m'PRINT_BY'\u001b[0m\u001b[0;34m]\u001b[0m\u001b[0;34m)\u001b[0m\u001b[0;34m==\u001b[0m\u001b[0;36m0\u001b[0m\u001b[0;34m:\u001b[0m\u001b[0;34m\u001b[0m\u001b[0m\n",
      "\u001b[0;32m/usr/local/lib/python3.5/dist-packages/tensorflow/python/client/session.py\u001b[0m in \u001b[0;36mrun\u001b[0;34m(self, fetches, feed_dict, options, run_metadata)\u001b[0m\n\u001b[1;32m    898\u001b[0m     \u001b[0;32mtry\u001b[0m\u001b[0;34m:\u001b[0m\u001b[0;34m\u001b[0m\u001b[0m\n\u001b[1;32m    899\u001b[0m       result = self._run(None, fetches, feed_dict, options_ptr,\n\u001b[0;32m--> 900\u001b[0;31m                          run_metadata_ptr)\n\u001b[0m\u001b[1;32m    901\u001b[0m       \u001b[0;32mif\u001b[0m \u001b[0mrun_metadata\u001b[0m\u001b[0;34m:\u001b[0m\u001b[0;34m\u001b[0m\u001b[0m\n\u001b[1;32m    902\u001b[0m         \u001b[0mproto_data\u001b[0m \u001b[0;34m=\u001b[0m \u001b[0mtf_session\u001b[0m\u001b[0;34m.\u001b[0m\u001b[0mTF_GetBuffer\u001b[0m\u001b[0;34m(\u001b[0m\u001b[0mrun_metadata_ptr\u001b[0m\u001b[0;34m)\u001b[0m\u001b[0;34m\u001b[0m\u001b[0m\n",
      "\u001b[0;32m/usr/local/lib/python3.5/dist-packages/tensorflow/python/client/session.py\u001b[0m in \u001b[0;36m_run\u001b[0;34m(self, handle, fetches, feed_dict, options, run_metadata)\u001b[0m\n\u001b[1;32m   1133\u001b[0m     \u001b[0;32mif\u001b[0m \u001b[0mfinal_fetches\u001b[0m \u001b[0;32mor\u001b[0m \u001b[0mfinal_targets\u001b[0m \u001b[0;32mor\u001b[0m \u001b[0;34m(\u001b[0m\u001b[0mhandle\u001b[0m \u001b[0;32mand\u001b[0m \u001b[0mfeed_dict_tensor\u001b[0m\u001b[0;34m)\u001b[0m\u001b[0;34m:\u001b[0m\u001b[0;34m\u001b[0m\u001b[0m\n\u001b[1;32m   1134\u001b[0m       results = self._do_run(handle, final_targets, final_fetches,\n\u001b[0;32m-> 1135\u001b[0;31m                              feed_dict_tensor, options, run_metadata)\n\u001b[0m\u001b[1;32m   1136\u001b[0m     \u001b[0;32melse\u001b[0m\u001b[0;34m:\u001b[0m\u001b[0;34m\u001b[0m\u001b[0m\n\u001b[1;32m   1137\u001b[0m       \u001b[0mresults\u001b[0m \u001b[0;34m=\u001b[0m \u001b[0;34m[\u001b[0m\u001b[0;34m]\u001b[0m\u001b[0;34m\u001b[0m\u001b[0m\n",
      "\u001b[0;32m/usr/local/lib/python3.5/dist-packages/tensorflow/python/client/session.py\u001b[0m in \u001b[0;36m_do_run\u001b[0;34m(self, handle, target_list, fetch_list, feed_dict, options, run_metadata)\u001b[0m\n\u001b[1;32m   1314\u001b[0m     \u001b[0;32mif\u001b[0m \u001b[0mhandle\u001b[0m \u001b[0;32mis\u001b[0m \u001b[0;32mNone\u001b[0m\u001b[0;34m:\u001b[0m\u001b[0;34m\u001b[0m\u001b[0m\n\u001b[1;32m   1315\u001b[0m       return self._do_call(_run_fn, feeds, fetches, targets, options,\n\u001b[0;32m-> 1316\u001b[0;31m                            run_metadata)\n\u001b[0m\u001b[1;32m   1317\u001b[0m     \u001b[0;32melse\u001b[0m\u001b[0;34m:\u001b[0m\u001b[0;34m\u001b[0m\u001b[0m\n\u001b[1;32m   1318\u001b[0m       \u001b[0;32mreturn\u001b[0m \u001b[0mself\u001b[0m\u001b[0;34m.\u001b[0m\u001b[0m_do_call\u001b[0m\u001b[0;34m(\u001b[0m\u001b[0m_prun_fn\u001b[0m\u001b[0;34m,\u001b[0m \u001b[0mhandle\u001b[0m\u001b[0;34m,\u001b[0m \u001b[0mfeeds\u001b[0m\u001b[0;34m,\u001b[0m \u001b[0mfetches\u001b[0m\u001b[0;34m)\u001b[0m\u001b[0;34m\u001b[0m\u001b[0m\n",
      "\u001b[0;32m/usr/local/lib/python3.5/dist-packages/tensorflow/python/client/session.py\u001b[0m in \u001b[0;36m_do_call\u001b[0;34m(self, fn, *args)\u001b[0m\n\u001b[1;32m   1320\u001b[0m   \u001b[0;32mdef\u001b[0m \u001b[0m_do_call\u001b[0m\u001b[0;34m(\u001b[0m\u001b[0mself\u001b[0m\u001b[0;34m,\u001b[0m \u001b[0mfn\u001b[0m\u001b[0;34m,\u001b[0m \u001b[0;34m*\u001b[0m\u001b[0margs\u001b[0m\u001b[0;34m)\u001b[0m\u001b[0;34m:\u001b[0m\u001b[0;34m\u001b[0m\u001b[0m\n\u001b[1;32m   1321\u001b[0m     \u001b[0;32mtry\u001b[0m\u001b[0;34m:\u001b[0m\u001b[0;34m\u001b[0m\u001b[0m\n\u001b[0;32m-> 1322\u001b[0;31m       \u001b[0;32mreturn\u001b[0m \u001b[0mfn\u001b[0m\u001b[0;34m(\u001b[0m\u001b[0;34m*\u001b[0m\u001b[0margs\u001b[0m\u001b[0;34m)\u001b[0m\u001b[0;34m\u001b[0m\u001b[0m\n\u001b[0m\u001b[1;32m   1323\u001b[0m     \u001b[0;32mexcept\u001b[0m \u001b[0merrors\u001b[0m\u001b[0;34m.\u001b[0m\u001b[0mOpError\u001b[0m \u001b[0;32mas\u001b[0m \u001b[0me\u001b[0m\u001b[0;34m:\u001b[0m\u001b[0;34m\u001b[0m\u001b[0m\n\u001b[1;32m   1324\u001b[0m       \u001b[0mmessage\u001b[0m \u001b[0;34m=\u001b[0m \u001b[0mcompat\u001b[0m\u001b[0;34m.\u001b[0m\u001b[0mas_text\u001b[0m\u001b[0;34m(\u001b[0m\u001b[0me\u001b[0m\u001b[0;34m.\u001b[0m\u001b[0mmessage\u001b[0m\u001b[0;34m)\u001b[0m\u001b[0;34m\u001b[0m\u001b[0m\n",
      "\u001b[0;32m/usr/local/lib/python3.5/dist-packages/tensorflow/python/client/session.py\u001b[0m in \u001b[0;36m_run_fn\u001b[0;34m(feed_dict, fetch_list, target_list, options, run_metadata)\u001b[0m\n\u001b[1;32m   1305\u001b[0m       \u001b[0mself\u001b[0m\u001b[0;34m.\u001b[0m\u001b[0m_extend_graph\u001b[0m\u001b[0;34m(\u001b[0m\u001b[0;34m)\u001b[0m\u001b[0;34m\u001b[0m\u001b[0m\n\u001b[1;32m   1306\u001b[0m       return self._call_tf_sessionrun(\n\u001b[0;32m-> 1307\u001b[0;31m           options, feed_dict, fetch_list, target_list, run_metadata)\n\u001b[0m\u001b[1;32m   1308\u001b[0m \u001b[0;34m\u001b[0m\u001b[0m\n\u001b[1;32m   1309\u001b[0m     \u001b[0;32mdef\u001b[0m \u001b[0m_prun_fn\u001b[0m\u001b[0;34m(\u001b[0m\u001b[0mhandle\u001b[0m\u001b[0;34m,\u001b[0m \u001b[0mfeed_dict\u001b[0m\u001b[0;34m,\u001b[0m \u001b[0mfetch_list\u001b[0m\u001b[0;34m)\u001b[0m\u001b[0;34m:\u001b[0m\u001b[0;34m\u001b[0m\u001b[0m\n",
      "\u001b[0;32m/usr/local/lib/python3.5/dist-packages/tensorflow/python/client/session.py\u001b[0m in \u001b[0;36m_call_tf_sessionrun\u001b[0;34m(self, options, feed_dict, fetch_list, target_list, run_metadata)\u001b[0m\n\u001b[1;32m   1407\u001b[0m       return tf_session.TF_SessionRun_wrapper(\n\u001b[1;32m   1408\u001b[0m           \u001b[0mself\u001b[0m\u001b[0;34m.\u001b[0m\u001b[0m_session\u001b[0m\u001b[0;34m,\u001b[0m \u001b[0moptions\u001b[0m\u001b[0;34m,\u001b[0m \u001b[0mfeed_dict\u001b[0m\u001b[0;34m,\u001b[0m \u001b[0mfetch_list\u001b[0m\u001b[0;34m,\u001b[0m \u001b[0mtarget_list\u001b[0m\u001b[0;34m,\u001b[0m\u001b[0;34m\u001b[0m\u001b[0m\n\u001b[0;32m-> 1409\u001b[0;31m           run_metadata)\n\u001b[0m\u001b[1;32m   1410\u001b[0m     \u001b[0;32melse\u001b[0m\u001b[0;34m:\u001b[0m\u001b[0;34m\u001b[0m\u001b[0m\n\u001b[1;32m   1411\u001b[0m       \u001b[0;32mwith\u001b[0m \u001b[0merrors\u001b[0m\u001b[0;34m.\u001b[0m\u001b[0mraise_exception_on_not_ok_status\u001b[0m\u001b[0;34m(\u001b[0m\u001b[0;34m)\u001b[0m \u001b[0;32mas\u001b[0m \u001b[0mstatus\u001b[0m\u001b[0;34m:\u001b[0m\u001b[0;34m\u001b[0m\u001b[0m\n",
      "\u001b[0;31mKeyboardInterrupt\u001b[0m: "
     ]
    }
   ],
   "source": [
    "from Train import Train_model_list\n",
    "\n",
    "Train_model_list(MODEL_LIST = model_list,\n",
    "                 DATASETS = datasets,\n",
    "                 RESULT_BASE_PATH = '../../RESULT/', \n",
    "                 PROJECT_NAME = 'Sequence_Analyzer', \n",
    "                 DB_NAME = 'NHIS_NSC', \n",
    "                 new_game = True, \n",
    "                 verbose = True)"
   ]
  },
  {
   "cell_type": "code",
   "execution_count": 4,
   "metadata": {
    "scrolled": false
   },
   "outputs": [
    {
     "name": "stdout",
     "output_type": "stream",
     "text": [
      "\n",
      "\t[@] MODEL-(0/3) Training.. \n",
      "\n",
      "{'RNN_ARCH': {'cell_type': 'GRU', 'drop_out': [False, True], 'hidden_size': [64, 128]}, 'DECAY_RATE': 0.9, 'EMB_MATRIX': False, 'LABEL_SIZE': 2, 'EMB_SIZE': 128, 'DECAY_STEPS': 1000, 'MAX_TIME_STEP': 30, 'SAVE_BY': 1000000, 'LR': 0.0005, 'KEEP_PROB': 0.5, 'L2_REG': 0.001, 'TRAIN_STEPS': 100, 'PRINT_BY': 200, 'BATCH_SIZE': 128, 'FEATURE_SIZE': 7090, 'MODEL_ARCH': 'RNN_MODEL'}\n",
      "\n",
      "\n",
      "testing..\n",
      "\n",
      "test_examples:  4669\n",
      "INFO:tensorflow:Restoring parameters from /home/jin/scripts/NEW/DLMSAA/RESULT/Sequence_Analyzer/NHIS_NSC/MODEL_0/MODEL_0-100\n",
      "Loading SUCCESS.. \n",
      "\n",
      "[Report]\n",
      "  Avg of batch_loss: 0.6904551287492117\n",
      "  Avg of batch_acc\n",
      "  AUROC of 4669-samples: 0.8492443070522593\n"
     ]
    },
    {
     "data": {
      "image/png": "[encoded data removed]",
      "text/plain": [
       "<Figure size 720x504 with 1 Axes>"
      ]
     },
     "metadata": {},
     "output_type": "display_data"
    },
    {
     "name": "stdout",
     "output_type": "stream",
     "text": [
      "\n",
      "\t[@] MODEL-(1/3) Training.. \n",
      "\n",
      "{'RNN_ARCH': {'cell_type': 'GRU', 'drop_out': [False, True], 'hidden_size': [64, 128]}, 'DECAY_RATE': 0.9, 'EMB_MATRIX': False, 'LABEL_SIZE': 2, 'EMB_SIZE': 128, 'DECAY_STEPS': 1000, 'MAX_TIME_STEP': 30, 'SAVE_BY': 1000000, 'LR': 0.0005, 'KEEP_PROB': 0.5, 'L2_REG': 0.001, 'TRAIN_STEPS': 100, 'PRINT_BY': 200, 'BATCH_SIZE': 256, 'FEATURE_SIZE': 7090, 'MODEL_ARCH': 'RNN_MODEL'}\n",
      "\n",
      "\n",
      "testing..\n",
      "\n",
      "test_examples:  4669\n",
      "Loading FAILED.. \n",
      "\n",
      "  [ABORT !!]\n",
      "\n",
      "\t[@] MODEL-(2/3) Training.. \n",
      "\n",
      "{'RNN_ARCH': {'cell_type': 'GRU', 'drop_out': [False, True], 'hidden_size': [64, 128]}, 'DECAY_RATE': 0.9, 'EMB_MATRIX': False, 'LABEL_SIZE': 2, 'EMB_SIZE': 128, 'DECAY_STEPS': 1000, 'MAX_TIME_STEP': 30, 'SAVE_BY': 1000000, 'LR': 5e-05, 'KEEP_PROB': 0.5, 'L2_REG': 0.001, 'TRAIN_STEPS': 100, 'PRINT_BY': 200, 'BATCH_SIZE': 128, 'FEATURE_SIZE': 7090, 'MODEL_ARCH': 'RNN_MODEL'}\n",
      "\n",
      "\n",
      "testing..\n",
      "\n",
      "test_examples:  4669\n",
      "Loading FAILED.. \n",
      "\n",
      "  [ABORT !!]\n",
      "\n",
      "\t[@] MODEL-(3/3) Training.. \n",
      "\n",
      "{'RNN_ARCH': {'cell_type': 'GRU', 'drop_out': [False, True], 'hidden_size': [64, 128]}, 'DECAY_RATE': 0.9, 'EMB_MATRIX': False, 'LABEL_SIZE': 2, 'EMB_SIZE': 128, 'DECAY_STEPS': 1000, 'MAX_TIME_STEP': 30, 'SAVE_BY': 1000000, 'LR': 5e-05, 'KEEP_PROB': 0.5, 'L2_REG': 0.001, 'TRAIN_STEPS': 100, 'PRINT_BY': 200, 'BATCH_SIZE': 256, 'FEATURE_SIZE': 7090, 'MODEL_ARCH': 'RNN_MODEL'}\n",
      "\n",
      "\n",
      "testing..\n",
      "\n",
      "test_examples:  4669\n",
      "Loading FAILED.. \n",
      "\n",
      "  [ABORT !!]\n",
      "Dumping at.. ../../RESULT/Sequence_Analyzer/NHIS_NSC/df_RESULTS.pkl\n",
      "\n",
      "[ALL DONE]\n"
     ]
    }
   ],
   "source": [
    "%matplotlib inline\n",
    "\n",
    "from Train import Test_model_list\n",
    "\n",
    "Test_model_list(MODEL_LIST = model_list,\n",
    "                DATASETS = datasets,\n",
    "                RESULT_BASE_PATH = '../../RESULT/', \n",
    "                PROJECT_NAME = 'Sequence_Analyzer', \n",
    "                DB_NAME = 'NHIS_NSC')"
   ]
  },
  {
   "cell_type": "code",
   "execution_count": null,
   "metadata": {},
   "outputs": [],
   "source": []
  },
  {
   "cell_type": "code",
   "execution_count": null,
   "metadata": {},
   "outputs": [],
   "source": []
  },
  {
   "cell_type": "markdown",
   "metadata": {},
   "source": [
    "# [1] Get datasets"
   ]
  },
  {
   "cell_type": "markdown",
   "metadata": {},
   "source": [
    "## (1-1) Raw_seq to datasets "
   ]
  },
  {
   "cell_type": "code",
   "execution_count": 1,
   "metadata": {
    "scrolled": true
   },
   "outputs": [
    {
     "name": "stdout",
     "output_type": "stream",
     "text": [
      "\n",
      "[Creating_dataSets]\n",
      "\n",
      "Loading at.. /home/jin/Urim/DATA/CLAIM/CKD_DS_KNN/t_pid_list.pkl\n",
      "Loading at.. /home/jin/Urim/DATA/CLAIM/CKD_DS_KNN/t_seq_data.pkl\n",
      "Loading at.. /home/jin/Urim/DATA/CLAIM/CKD_DS_KNN/t_demo_data.pkl\n",
      "Loading at.. /home/jin/Urim/DATA/CLAIM/CKD_DS_KNN/t_seq_len.pkl\n",
      "Loading at.. /home/jin/Urim/DATA/CLAIM/CKD_DS_KNN/c_pid_list.pkl\n",
      "Loading at.. /home/jin/Urim/DATA/CLAIM/CKD_DS_KNN/c_seq_data.pkl\n",
      "Loading at.. /home/jin/Urim/DATA/CLAIM/CKD_DS_KNN/c_demo_data.pkl\n",
      "Loading at.. /home/jin/Urim/DATA/CLAIM/CKD_DS_KNN/c_seq_len.pkl\n",
      "\n",
      "Number of T:  3816 \n",
      "Number of C:  19896\n",
      "\n",
      "(Split data)\n",
      "{'MAX_TIME_STEP': 30, 'FEATURE_SIZE': 6902, 'LABEL_SIZE': 2}\n"
     ]
    }
   ],
   "source": [
    "from Dataset import convert_code_to_multihot, get_dataSets\n",
    "\n",
    "DATA_PATH_DS_KNN = '/home/jin/Urim/DATA/CLAIM/CKD_DS_KNN/'\n",
    "#convert_code_to_multihot(DATA_PATH_DS_KNN, max_time_step=30, dx_only=False)\n",
    "datasets_DS_KNN = get_dataSets(DATA_PATH_DS_KNN, tr_ratio=0.8)\n",
    "\n",
    "#DATA_PATH_DS_PSM = '/home/jin/Urim/DATA/CLAIM/CKD_DS_PSM/'\n",
    "#convert_code_to_multihot(DATA_PATH_DS_PSM, max_time_step=30, dx_only=False)\n",
    "#datasets_DS_PSM = get_dataSets(DATA_PATH_DS_PSM, tr_ratio=0.8)\n",
    "\n",
    "\n",
    "datasets = datasets_DS_KNN"
   ]
  },
  {
   "cell_type": "markdown",
   "metadata": {},
   "source": [
    "## (1-2) Inspect Cohorts (JIN_add_at_180831)"
   ]
  },
  {
   "cell_type": "markdown",
   "metadata": {},
   "source": [
    "### TRAIN-TARGET"
   ]
  },
  {
   "cell_type": "code",
   "execution_count": 2,
   "metadata": {
    "scrolled": true
   },
   "outputs": [
    {
     "name": "stdout",
     "output_type": "stream",
     "text": [
      "\n",
      "\n",
      "[TRAIN-TARGET]\n",
      "\n",
      "[statsInfo]\n",
      "\n",
      "  [gender level];\n",
      "          male: 1747\n",
      "        female: 1305\n",
      "           SUM: 3052\n",
      "\n",
      "  [avg_age info];\n",
      "          nobs: 3052\n",
      "        minmax: (0.013666666666666667, 0.9299999999999998)\n",
      "          mean: 0.5748570336391436\n",
      "      variance: 0.04482969312688375\n",
      "      skewness: -0.9289425717745139\n",
      "      kurtosis: -0.007024777490426182\n",
      "\n",
      "  [visit level] sequence length;\n",
      "          nobs: 3052\n",
      "        minmax: (2, 30)\n",
      "          mean: 27.20445609436435\n",
      "      variance: 51.03193031698349\n",
      "      skewness: -2.4654729118878387\n",
      "      kurtosis: 4.626940950496454\n",
      "\n",
      "  [code level] # of co-code;\n",
      "          nobs: 83028\n",
      "        minmax: (1, 119)\n",
      "          mean: 7.23560726501903\n",
      "      variance: 28.880545493414157\n",
      "      skewness: 2.6303518999111923\n",
      "      kurtosis: 17.52560999867853\n",
      "\n",
      "[topK_codeFrequency]\n",
      "\n",
      "Loading at.. /home/jin/Urim/DATA/CLAIM/CKD_DS_KNN/code2title.pkl\n",
      "Loading at.. /home/jin/Urim/DATA/CLAIM/CKD_DS_KNN/code2idx.pkl\n",
      "\n",
      "  TopK of [15] codes: \n",
      "   0. [(320128, 22509)]: Essential hypertension\n",
      "   1. [(201340, 7518)]: Gastritis\n",
      "   2. [(4193704, 6078)]: Type 2 diabetes mellitus without complication\n",
      "   3. [(1332419, 5799)]: Amlodipine 5 MG Oral Tablet\n",
      "   4. [(19135536, 5220)]: tramadol hydrochloride 50 MG/ML Injectable Solution\n",
      "   5. [(432867, 4897)]: Hyperlipidemia\n",
      "   6. [(1597772, 4890)]: glimepiride 2 MG Oral Tablet\n",
      "   7. [(257007, 4833)]: Allergic rhinitis\n",
      "   8. [(21600483, 4702)]: Propulsives\n",
      "   9. [(19106160, 4545)]: Streptodornase 2500 UNT / Streptokinase 10000 UNT Oral Tablet\n",
      "  10. [(21600071, 4468)]: almagate\n",
      "  11. [(19018873, 4392)]: Cimetidine 200 MG Oral Tablet\n",
      "  12. [(21600109, 4326)]: Other drugs for peptic ulcer and gastro-oesophageal reflux disease (GORD)\n",
      "  13. [(19103854, 4167)]: Aspirin 100 MG Delayed Release Oral Capsule\n",
      "  14. [(19107415, 4148)]: ALIBENDOL 100 MG Oral Tablet\n",
      "\n",
      "[acc_codeFrequency]\n",
      "\n",
      "Loading at.. /home/jin/Urim/DATA/CLAIM/CKD_DS_KNN/code2title.pkl\n",
      "Loading at.. /home/jin/Urim/DATA/CLAIM/CKD_DS_KNN/code2idx.pkl\n",
      "\n",
      "  Top accumulated freq (0.1) of codes: \n",
      "   0. [(320128, 22509)]: Essential hypertension\n",
      "   1. [(201340, 7518)]: Gastritis\n",
      "   2. [(4193704, 6078)]: Type 2 diabetes mellitus without complication\n",
      "   3. [(1332419, 5799)]: Amlodipine 5 MG Oral Tablet\n",
      "   4. [(19135536, 5220)]: tramadol hydrochloride 50 MG/ML Injectable Solution\n",
      "   5. [(432867, 4897)]: Hyperlipidemia\n",
      "   6. [(1597772, 4890)]: glimepiride 2 MG Oral Tablet\n",
      "   7. [(257007, 4833)]: Allergic rhinitis\n",
      "\tstop at 0.10277682527739955\n",
      "\n",
      "[DONE]\n"
     ]
    }
   ],
   "source": [
    "from Report import get_datasets_info\n",
    "    \n",
    "get_datasets_info(DATA_PATH = DATA_PATH_DS_KNN, \n",
    "                  DATASETS = datasets, \n",
    "                  dataset_type = 'TRAIN', #TRAIN, #TEST, #ALL\n",
    "                  cohort_type = 'TARGET', #TARGET #COMP #ALL\n",
    "                  topK = 15, \n",
    "                  thr = 0.1)"
   ]
  },
  {
   "cell_type": "markdown",
   "metadata": {},
   "source": [
    "### TRAIN-COMP"
   ]
  },
  {
   "cell_type": "code",
   "execution_count": 3,
   "metadata": {
    "scrolled": true
   },
   "outputs": [
    {
     "name": "stdout",
     "output_type": "stream",
     "text": [
      "\n",
      "\n",
      "[TRAIN-COMP]\n",
      "\n",
      "[statsInfo]\n",
      "\n",
      "  [gender level];\n",
      "          male: 9044\n",
      "        female: 6872\n",
      "           SUM: 15916\n",
      "\n",
      "  [avg_age info];\n",
      "          nobs: 15916\n",
      "        minmax: (0.013666666666666667, 0.9299999999999998)\n",
      "          mean: 0.5619113680154142\n",
      "      variance: 0.0454131618998731\n",
      "      skewness: -0.8206003929097728\n",
      "      kurtosis: -0.18984771796212474\n",
      "\n",
      "  [visit level] sequence length;\n",
      "          nobs: 15916\n",
      "        minmax: (2, 30)\n",
      "          mean: 27.06873586328223\n",
      "      variance: 52.54846389981585\n",
      "      skewness: -2.3798076849473997\n",
      "      kurtosis: 4.21983803586457\n",
      "\n",
      "  [code level] # of co-code;\n",
      "          nobs: 430826\n",
      "        minmax: (1, 119)\n",
      "          mean: 6.549486335550779\n",
      "      variance: 22.607577209600322\n",
      "      skewness: 2.8123427448444773\n",
      "      kurtosis: 20.683086113913376\n",
      "\n",
      "[topK_codeFrequency]\n",
      "\n",
      "Loading at.. /home/jin/Urim/DATA/CLAIM/CKD_DS_KNN/code2title.pkl\n",
      "Loading at.. /home/jin/Urim/DATA/CLAIM/CKD_DS_KNN/code2idx.pkl\n",
      "\n",
      "  TopK of [15] codes: \n",
      "   0. [(320128, 87223)]: Essential hypertension\n",
      "   1. [(201340, 38971)]: Gastritis\n",
      "   2. [(19135536, 29837)]: tramadol hydrochloride 50 MG/ML Injectable Solution\n",
      "   3. [(257007, 28558)]: Allergic rhinitis\n",
      "   4. [(19106160, 27572)]: Streptodornase 2500 UNT / Streptokinase 10000 UNT Oral Tablet\n",
      "   5. [(21600071, 26862)]: almagate\n",
      "   6. [(21600483, 26317)]: Propulsives\n",
      "   7. [(19107415, 26103)]: ALIBENDOL 100 MG Oral Tablet\n",
      "   8. [(19018873, 25859)]: Cimetidine 200 MG Oral Tablet\n",
      "   9. [(1332419, 25652)]: Amlodipine 5 MG Oral Tablet\n",
      "  10. [(1125393, 25326)]: Acetaminophen 650 MG Oral Tablet\n",
      "  11. [(19106551, 23477)]: loxoprofen 60 MG Oral Tablet\n",
      "  12. [(260139, 23383)]: Acute bronchitis\n",
      "  13. [(21600109, 22464)]: Other drugs for peptic ulcer and gastro-oesophageal reflux disease (GORD)\n",
      "  14. [(439418, 22147)]: Indigestion\n",
      "\n",
      "[acc_codeFrequency]\n",
      "\n",
      "Loading at.. /home/jin/Urim/DATA/CLAIM/CKD_DS_KNN/code2title.pkl\n",
      "Loading at.. /home/jin/Urim/DATA/CLAIM/CKD_DS_KNN/code2idx.pkl\n",
      "\n",
      "  Top accumulated freq (0.1) of codes: \n",
      "   0. [(320128, 87223)]: Essential hypertension\n",
      "   1. [(201340, 38971)]: Gastritis\n",
      "   2. [(19135536, 29837)]: tramadol hydrochloride 50 MG/ML Injectable Solution\n",
      "   3. [(257007, 28558)]: Allergic rhinitis\n",
      "   4. [(19106160, 27572)]: Streptodornase 2500 UNT / Streptokinase 10000 UNT Oral Tablet\n",
      "   5. [(21600071, 26862)]: almagate\n",
      "   6. [(21600483, 26317)]: Propulsives\n",
      "   7. [(19107415, 26103)]: ALIBENDOL 100 MG Oral Tablet\n",
      "\tstop at 0.10328671940812754\n",
      "\n",
      "[DONE]\n"
     ]
    }
   ],
   "source": [
    "from Report import get_datasets_info\n",
    "    \n",
    "get_datasets_info(DATA_PATH = DATA_PATH_DS_KNN, \n",
    "                  DATASETS = datasets, \n",
    "                  dataset_type = 'TRAIN', #TRAIN, #TEST, #ALL\n",
    "                  cohort_type = 'COMP', #TARGET #COMP #ALL\n",
    "                  topK = 15, \n",
    "                  thr = 0.1)"
   ]
  },
  {
   "cell_type": "markdown",
   "metadata": {},
   "source": [
    "# [2] Train Model"
   ]
  },
  {
   "cell_type": "markdown",
   "metadata": {},
   "source": [
    "## (2-1) Model setting"
   ]
  },
  {
   "cell_type": "code",
   "execution_count": 4,
   "metadata": {
    "scrolled": true
   },
   "outputs": [
    {
     "name": "stderr",
     "output_type": "stream",
     "text": [
      "\r",
      "  0%|          | 0/4 [00:00<?, ?it/s]"
     ]
    },
    {
     "name": "stdout",
     "output_type": "stream",
     "text": [
      "\n",
      "[INPUT_LAYERS]\n",
      "\tinputs: Tensor(\"Input_Layer/Inputs:0\", shape=(256, 30, 6902), dtype=float32)\n",
      "\tlabels: Tensor(\"Input_Layer/Labels:0\", shape=(256, 2), dtype=float32)\n",
      "\tdemo: Tensor(\"Input_Layer/Demo:0\", shape=(256, 30, 2), dtype=float32)\n",
      "\tseq_lens: Tensor(\"Input_Layer/Seq_lens:0\", shape=(256,), dtype=int32)\n",
      "\tkeep_prob: Tensor(\"Input_Layer/Keep_prob:0\", shape=(), dtype=float32)\n",
      "\n",
      "[EMB_LAYERS]\n",
      "\tW_emb: <tf.Variable 'Inference/EMB_Layer/W_emb:0' shape=(6902, 64) dtype=float32_ref>\n",
      "\temb_inputs: Tensor(\"Inference/EMB_Layer/Emb_inputs:0\", shape=(256, 30, 64), dtype=float32)\n",
      "\temb_and_demo: Tensor(\"Inference/EMB_Layer/emb_and_demo:0\", shape=(256, 30, 66), dtype=float32)\n",
      "\n",
      "[RNN_LAYERS]\n",
      "\tRNN_cells: <tensorflow.python.ops.rnn_cell_impl.MultiRNNCell object at 0x7fe6d505bc50>\n",
      "\tRNN_outputs: Tensor(\"Inference/RNN_Layer/rnn/transpose_1:0\", shape=(256, 30, 64), dtype=float32)\n",
      "\tRNN_outputs_last: Tensor(\"Inference/RNN_Layer/RNN_outputs_last:0\", shape=(256, 64), dtype=float32)\n",
      "\n",
      "[PREDICTION_LAYERS]\n",
      "\tW_pred: <tf.Variable 'Inference/Pred_Layer/W_pred:0' shape=(64, 2) dtype=float32_ref>\n",
      "\tb_pred: <tf.Variable 'Inference/Pred_Layer/b_pred:0' shape=() dtype=float32_ref>\n",
      "\tlogits: Tensor(\"Inference/Pred_Layer/Logits:0\", shape=(256, 2), dtype=float32)\n",
      "\tpred: Tensor(\"Inference/Pred_Layer/pred:0\", shape=(256, 2), dtype=float32)\n",
      "\n",
      "[LOSS]\n",
      "\txentropy_BF: Tensor(\"Loss/Xentropy_BF/Reshape_2:0\", shape=(256,), dtype=float32)\n",
      "\txentropy_mean: Tensor(\"Loss/xentropy_mean:0\", shape=(), dtype=float32)\n",
      "\tloss_reg: Tensor(\"Loss/loss_l2reg:0\", shape=(), dtype=float32)\n",
      "\tloss: Tensor(\"Loss/Loss:0\", shape=(), dtype=float32)\n"
     ]
    },
    {
     "name": "stderr",
     "output_type": "stream",
     "text": [
      "\r",
      " 25%|██▌       | 1/4 [00:00<00:02,  1.33it/s]"
     ]
    },
    {
     "name": "stdout",
     "output_type": "stream",
     "text": [
      "\n",
      "[ACCUARCY]\n",
      "\taccuracy: Tensor(\"Evaluation/Accuracy:0\", shape=(), dtype=float32)\n",
      "\n",
      "[INPUT_LAYERS]\n",
      "\tinputs: Tensor(\"Input_Layer/Inputs:0\", shape=(256, 30, 6902), dtype=float32)\n",
      "\tlabels: Tensor(\"Input_Layer/Labels:0\", shape=(256, 2), dtype=float32)\n",
      "\tdemo: Tensor(\"Input_Layer/Demo:0\", shape=(256, 30, 2), dtype=float32)\n",
      "\tseq_lens: Tensor(\"Input_Layer/Seq_lens:0\", shape=(256,), dtype=int32)\n",
      "\tkeep_prob: Tensor(\"Input_Layer/Keep_prob:0\", shape=(), dtype=float32)\n",
      "\n",
      "[EMB_LAYERS]\n",
      "\tW_emb: <tf.Variable 'Inference/EMB_Layer/W_emb:0' shape=(6902, 64) dtype=float32_ref>\n",
      "\temb_inputs: Tensor(\"Inference/EMB_Layer/Emb_inputs:0\", shape=(256, 30, 64), dtype=float32)\n",
      "\temb_and_demo: Tensor(\"Inference/EMB_Layer/emb_and_demo:0\", shape=(256, 30, 66), dtype=float32)\n",
      "\n",
      "[RNN_LAYERS]\n",
      "\tRNN_cells: <tensorflow.python.ops.rnn_cell_impl.MultiRNNCell object at 0x7fe6d4f0e358>\n",
      "\tRNN_outputs: Tensor(\"Inference/RNN_Layer/rnn/transpose_1:0\", shape=(256, 30, 64), dtype=float32)\n",
      "\tRNN_outputs_last: Tensor(\"Inference/RNN_Layer/RNN_outputs_last:0\", shape=(256, 64), dtype=float32)\n",
      "\n",
      "[PREDICTION_LAYERS]\n",
      "\tW_pred: <tf.Variable 'Inference/Pred_Layer/W_pred:0' shape=(64, 2) dtype=float32_ref>\n",
      "\tb_pred: <tf.Variable 'Inference/Pred_Layer/b_pred:0' shape=() dtype=float32_ref>\n",
      "\tlogits: Tensor(\"Inference/Pred_Layer/Logits:0\", shape=(256, 2), dtype=float32)\n",
      "\tpred: Tensor(\"Inference/Pred_Layer/pred:0\", shape=(256, 2), dtype=float32)\n",
      "\n",
      "[LOSS]\n",
      "\txentropy_BF: Tensor(\"Loss/Xentropy_BF/Reshape_2:0\", shape=(256,), dtype=float32)\n",
      "\txentropy_mean: Tensor(\"Loss/xentropy_mean:0\", shape=(), dtype=float32)\n",
      "\tloss_reg: Tensor(\"Loss/loss_l2reg:0\", shape=(), dtype=float32)\n",
      "\tloss: Tensor(\"Loss/Loss:0\", shape=(), dtype=float32)\n"
     ]
    },
    {
     "name": "stderr",
     "output_type": "stream",
     "text": [
      "\r",
      " 50%|█████     | 2/4 [00:01<00:01,  1.34it/s]"
     ]
    },
    {
     "name": "stdout",
     "output_type": "stream",
     "text": [
      "\n",
      "[ACCUARCY]\n",
      "\taccuracy: Tensor(\"Evaluation/Accuracy:0\", shape=(), dtype=float32)\n",
      "\n",
      "[INPUT_LAYERS]\n",
      "\tinputs: Tensor(\"Input_Layer/Inputs:0\", shape=(256, 30, 6902), dtype=float32)\n",
      "\tlabels: Tensor(\"Input_Layer/Labels:0\", shape=(256, 2), dtype=float32)\n",
      "\tdemo: Tensor(\"Input_Layer/Demo:0\", shape=(256, 30, 2), dtype=float32)\n",
      "\tseq_lens: Tensor(\"Input_Layer/Seq_lens:0\", shape=(256,), dtype=int32)\n",
      "\tkeep_prob: Tensor(\"Input_Layer/Keep_prob:0\", shape=(), dtype=float32)\n",
      "\n",
      "[EMB_LAYERS]\n",
      "\tW_emb: <tf.Variable 'Inference/EMB_Layer/W_emb:0' shape=(6902, 128) dtype=float32_ref>\n",
      "\temb_inputs: Tensor(\"Inference/EMB_Layer/Emb_inputs:0\", shape=(256, 30, 128), dtype=float32)\n",
      "\temb_and_demo: Tensor(\"Inference/EMB_Layer/emb_and_demo:0\", shape=(256, 30, 130), dtype=float32)\n",
      "\n",
      "[RNN_LAYERS]\n",
      "\tRNN_cells: <tensorflow.python.ops.rnn_cell_impl.MultiRNNCell object at 0x7fe6d4dbc9b0>\n",
      "\tRNN_outputs: Tensor(\"Inference/RNN_Layer/rnn/transpose_1:0\", shape=(256, 30, 64), dtype=float32)\n",
      "\tRNN_outputs_last: Tensor(\"Inference/RNN_Layer/RNN_outputs_last:0\", shape=(256, 64), dtype=float32)\n",
      "\n",
      "[PREDICTION_LAYERS]\n",
      "\tW_pred: <tf.Variable 'Inference/Pred_Layer/W_pred:0' shape=(64, 2) dtype=float32_ref>\n",
      "\tb_pred: <tf.Variable 'Inference/Pred_Layer/b_pred:0' shape=() dtype=float32_ref>\n",
      "\tlogits: Tensor(\"Inference/Pred_Layer/Logits:0\", shape=(256, 2), dtype=float32)\n",
      "\tpred: Tensor(\"Inference/Pred_Layer/pred:0\", shape=(256, 2), dtype=float32)\n",
      "\n",
      "[LOSS]\n",
      "\txentropy_BF: Tensor(\"Loss/Xentropy_BF/Reshape_2:0\", shape=(256,), dtype=float32)\n",
      "\txentropy_mean: Tensor(\"Loss/xentropy_mean:0\", shape=(), dtype=float32)\n",
      "\tloss_reg: Tensor(\"Loss/loss_l2reg:0\", shape=(), dtype=float32)\n",
      "\tloss: Tensor(\"Loss/Loss:0\", shape=(), dtype=float32)\n"
     ]
    },
    {
     "name": "stderr",
     "output_type": "stream",
     "text": [
      "\r",
      " 75%|███████▌  | 3/4 [00:02<00:00,  1.26it/s]"
     ]
    },
    {
     "name": "stdout",
     "output_type": "stream",
     "text": [
      "\n",
      "[ACCUARCY]\n",
      "\taccuracy: Tensor(\"Evaluation/Accuracy:0\", shape=(), dtype=float32)\n",
      "\n",
      "[INPUT_LAYERS]\n",
      "\tinputs: Tensor(\"Input_Layer/Inputs:0\", shape=(256, 30, 6902), dtype=float32)\n",
      "\tlabels: Tensor(\"Input_Layer/Labels:0\", shape=(256, 2), dtype=float32)\n",
      "\tdemo: Tensor(\"Input_Layer/Demo:0\", shape=(256, 30, 2), dtype=float32)\n",
      "\tseq_lens: Tensor(\"Input_Layer/Seq_lens:0\", shape=(256,), dtype=int32)\n",
      "\tkeep_prob: Tensor(\"Input_Layer/Keep_prob:0\", shape=(), dtype=float32)\n",
      "\n",
      "[EMB_LAYERS]\n",
      "\tW_emb: <tf.Variable 'Inference/EMB_Layer/W_emb:0' shape=(6902, 128) dtype=float32_ref>\n",
      "\temb_inputs: Tensor(\"Inference/EMB_Layer/Emb_inputs:0\", shape=(256, 30, 128), dtype=float32)\n",
      "\temb_and_demo: Tensor(\"Inference/EMB_Layer/emb_and_demo:0\", shape=(256, 30, 130), dtype=float32)\n",
      "\n",
      "[RNN_LAYERS]\n",
      "\tRNN_cells: <tensorflow.python.ops.rnn_cell_impl.MultiRNNCell object at 0x7fe6d4cb3518>\n",
      "\tRNN_outputs: Tensor(\"Inference/RNN_Layer/rnn/transpose_1:0\", shape=(256, 30, 64), dtype=float32)\n",
      "\tRNN_outputs_last: Tensor(\"Inference/RNN_Layer/RNN_outputs_last:0\", shape=(256, 64), dtype=float32)\n",
      "\n",
      "[PREDICTION_LAYERS]\n",
      "\tW_pred: <tf.Variable 'Inference/Pred_Layer/W_pred:0' shape=(64, 2) dtype=float32_ref>\n",
      "\tb_pred: <tf.Variable 'Inference/Pred_Layer/b_pred:0' shape=() dtype=float32_ref>\n",
      "\tlogits: Tensor(\"Inference/Pred_Layer/Logits:0\", shape=(256, 2), dtype=float32)\n",
      "\tpred: Tensor(\"Inference/Pred_Layer/pred:0\", shape=(256, 2), dtype=float32)\n",
      "\n",
      "[LOSS]\n",
      "\txentropy_BF: Tensor(\"Loss/Xentropy_BF/Reshape_2:0\", shape=(256,), dtype=float32)\n",
      "\txentropy_mean: Tensor(\"Loss/xentropy_mean:0\", shape=(), dtype=float32)\n",
      "\tloss_reg: Tensor(\"Loss/loss_l2reg:0\", shape=(), dtype=float32)\n",
      "\tloss: Tensor(\"Loss/Loss:0\", shape=(), dtype=float32)\n"
     ]
    },
    {
     "name": "stderr",
     "output_type": "stream",
     "text": [
      "\r",
      "100%|██████████| 4/4 [00:03<00:00,  1.28it/s]"
     ]
    },
    {
     "name": "stdout",
     "output_type": "stream",
     "text": [
      "\n",
      "[ACCUARCY]\n",
      "\taccuracy: Tensor(\"Evaluation/Accuracy:0\", shape=(), dtype=float32)\n"
     ]
    },
    {
     "name": "stderr",
     "output_type": "stream",
     "text": [
      "\n"
     ]
    }
   ],
   "source": [
    "flag_grid = {'MODEL_ARCH': ['RNN_MODEL'],\n",
    "             'batch_size': [128*2],\n",
    "             'max_time_step': [datasets.info['MAX_TIME_STEP']],\n",
    "             'feature_size': [datasets.info['FEATURE_SIZE']],\n",
    "             'label_size': [datasets.info['LABEL_SIZE']],\n",
    "             'keep_prob': [0.7],\n",
    "             'emb_matrix': [False],\n",
    "             'emb_size': [64*1, 64*2],\n",
    "             'RNN_arch': [{'hidden_size':[32*3, 32*2], \n",
    "                           'drop_out':[False, True], \n",
    "                           'cell_type':'GRU'}],\n",
    "             'l2_reg': [0.001],\n",
    "             'lr': [5e-4, 5e-5],\n",
    "             'decay_steps': [1000],\n",
    "             'decay_rate': [0.9],\n",
    "             'train_steps': [1000*10],\n",
    "             'printBy': [200*10],\n",
    "             'saveBy': [1000000]\n",
    "            }\n",
    "\n",
    "from Model import Get_model_list\n",
    "\n",
    "model_list = Get_model_list(flag_grid)"
   ]
  },
  {
   "cell_type": "markdown",
   "metadata": {},
   "source": [
    "## (2-2) Model training"
   ]
  },
  {
   "cell_type": "code",
   "execution_count": 5,
   "metadata": {},
   "outputs": [
    {
     "name": "stdout",
     "output_type": "stream",
     "text": [
      "\n",
      "Previous Logs removed\n",
      "\n",
      "\n",
      "\t[@] MODEL-(0/3) Training.. \n",
      "\n",
      "{'label_size': 2, 'feature_size': 6902, 'max_time_step': 30, 'decay_rate': 0.9, 'keep_prob': 0.7, 'batch_size': 256, 'l2_reg': 0.001, 'emb_matrix': False, 'RNN_arch': {'drop_out': [False, True], 'cell_type': 'GRU', 'hidden_size': [96, 64]}, 'printBy': 2000, 'MODEL_ARCH': 'RNN_MODEL', 'emb_size': 64, 'saveBy': 1000000, 'train_steps': 10000, 'lr': 0.0005, 'decay_steps': 1000}\n",
      "\n"
     ]
    },
    {
     "name": "stderr",
     "output_type": "stream",
     "text": [
      "\r",
      "  0%|          | 0/10000 [00:00<?, ?it/s]"
     ]
    },
    {
     "name": "stdout",
     "output_type": "stream",
     "text": [
      "[@] New game..\n",
      "\n",
      "training..\n",
      "\n"
     ]
    },
    {
     "name": "stderr",
     "output_type": "stream",
     "text": [
      "\r",
      "  0%|          | 1/10000 [00:02<8:16:53,  2.98s/it]"
     ]
    },
    {
     "name": "stdout",
     "output_type": "stream",
     "text": [
      "[G-1]  LOSS (1.0392/1.0374)  ACC (0.51/0.53) LR (0.000500)\n"
     ]
    },
    {
     "name": "stderr",
     "output_type": "stream",
     "text": [
      " 20%|██        | 2001/10000 [24:16<1:37:01,  1.37it/s]"
     ]
    },
    {
     "name": "stdout",
     "output_type": "stream",
     "text": [
      "[G-2001]  LOSS (0.5453/1.1506)  ACC (0.76/0.56) LR (0.000405)\n"
     ]
    },
    {
     "name": "stderr",
     "output_type": "stream",
     "text": [
      " 40%|████      | 4001/10000 [48:51<1:13:15,  1.36it/s]"
     ]
    },
    {
     "name": "stdout",
     "output_type": "stream",
     "text": [
      "[G-4001]  LOSS (0.5077/1.9215)  ACC (0.79/0.53) LR (0.000328)\n"
     ]
    },
    {
     "name": "stderr",
     "output_type": "stream",
     "text": [
      " 60%|██████    | 6001/10000 [1:13:04<48:41,  1.37it/s]  "
     ]
    },
    {
     "name": "stdout",
     "output_type": "stream",
     "text": [
      "[G-6001]  LOSS (0.4578/2.2526)  ACC (0.81/0.45) LR (0.000266)\n"
     ]
    },
    {
     "name": "stderr",
     "output_type": "stream",
     "text": [
      " 80%|████████  | 8001/10000 [1:37:11<24:17,  1.37it/s]"
     ]
    },
    {
     "name": "stdout",
     "output_type": "stream",
     "text": [
      "[G-8001]  LOSS (0.2996/2.0519)  ACC (0.91/0.46) LR (0.000215)\n"
     ]
    },
    {
     "name": "stderr",
     "output_type": "stream",
     "text": [
      "100%|██████████| 10000/10000 [2:01:19<00:00,  1.37it/s]\n"
     ]
    },
    {
     "name": "stdout",
     "output_type": "stream",
     "text": [
      " [*] Saving checkpoints... ../RESULTS/Sequence_Analyzer/NHIS/MODEL_0\n",
      "\n",
      "[DONE@@]\n",
      "\n",
      "\t[@] MODEL-(1/3) Training.. \n",
      "\n",
      "{'label_size': 2, 'feature_size': 6902, 'max_time_step': 30, 'decay_rate': 0.9, 'keep_prob': 0.7, 'batch_size': 256, 'l2_reg': 0.001, 'emb_matrix': False, 'RNN_arch': {'drop_out': [False, True], 'cell_type': 'GRU', 'hidden_size': [96, 64]}, 'printBy': 2000, 'MODEL_ARCH': 'RNN_MODEL', 'emb_size': 64, 'saveBy': 1000000, 'train_steps': 10000, 'lr': 5e-05, 'decay_steps': 1000}\n",
      "\n"
     ]
    },
    {
     "name": "stderr",
     "output_type": "stream",
     "text": [
      "\r",
      "  0%|          | 0/10000 [00:00<?, ?it/s]"
     ]
    },
    {
     "name": "stdout",
     "output_type": "stream",
     "text": [
      "[@] New game..\n",
      "\n",
      "training..\n",
      "\n"
     ]
    },
    {
     "name": "stderr",
     "output_type": "stream",
     "text": [
      "\r",
      "  0%|          | 1/10000 [00:02<8:01:42,  2.89s/it]"
     ]
    },
    {
     "name": "stdout",
     "output_type": "stream",
     "text": [
      "[G-1]  LOSS (1.0460/1.0440)  ACC (0.50/0.52) LR (0.000050)\n"
     ]
    },
    {
     "name": "stderr",
     "output_type": "stream",
     "text": [
      " 20%|██        | 2001/10000 [24:26<1:37:44,  1.36it/s]"
     ]
    },
    {
     "name": "stdout",
     "output_type": "stream",
     "text": [
      "[G-2001]  LOSS (0.6047/1.0330)  ACC (0.72/0.52) LR (0.000040)\n"
     ]
    },
    {
     "name": "stderr",
     "output_type": "stream",
     "text": [
      " 40%|████      | 4001/10000 [48:53<1:13:18,  1.36it/s]"
     ]
    },
    {
     "name": "stdout",
     "output_type": "stream",
     "text": [
      "[G-4001]  LOSS (0.4745/1.2127)  ACC (0.80/0.54) LR (0.000033)\n"
     ]
    },
    {
     "name": "stderr",
     "output_type": "stream",
     "text": [
      " 60%|██████    | 6001/10000 [1:13:24<48:55,  1.36it/s]  "
     ]
    },
    {
     "name": "stdout",
     "output_type": "stream",
     "text": [
      "[G-6001]  LOSS (0.4515/1.2391)  ACC (0.80/0.48) LR (0.000027)\n"
     ]
    },
    {
     "name": "stderr",
     "output_type": "stream",
     "text": [
      " 80%|████████  | 8001/10000 [1:37:42<24:24,  1.36it/s]"
     ]
    },
    {
     "name": "stdout",
     "output_type": "stream",
     "text": [
      "[G-8001]  LOSS (0.4637/1.1244)  ACC (0.79/0.57) LR (0.000022)\n"
     ]
    },
    {
     "name": "stderr",
     "output_type": "stream",
     "text": [
      "100%|██████████| 10000/10000 [2:02:05<00:00,  1.37it/s]\n"
     ]
    },
    {
     "name": "stdout",
     "output_type": "stream",
     "text": [
      " [*] Saving checkpoints... ../RESULTS/Sequence_Analyzer/NHIS/MODEL_1\n",
      "\n",
      "[DONE@@]\n",
      "\n",
      "\t[@] MODEL-(2/3) Training.. \n",
      "\n",
      "{'label_size': 2, 'feature_size': 6902, 'max_time_step': 30, 'decay_rate': 0.9, 'keep_prob': 0.7, 'batch_size': 256, 'l2_reg': 0.001, 'emb_matrix': False, 'RNN_arch': {'drop_out': [False, True], 'cell_type': 'GRU', 'hidden_size': [96, 64]}, 'printBy': 2000, 'MODEL_ARCH': 'RNN_MODEL', 'emb_size': 128, 'saveBy': 1000000, 'train_steps': 10000, 'lr': 0.0005, 'decay_steps': 1000}\n",
      "\n"
     ]
    },
    {
     "name": "stderr",
     "output_type": "stream",
     "text": [
      "\r",
      "  0%|          | 0/10000 [00:00<?, ?it/s]"
     ]
    },
    {
     "name": "stdout",
     "output_type": "stream",
     "text": [
      "[@] New game..\n",
      "\n",
      "training..\n",
      "\n"
     ]
    },
    {
     "name": "stderr",
     "output_type": "stream",
     "text": [
      "\r",
      "  0%|          | 1/10000 [00:02<8:06:18,  2.92s/it]"
     ]
    },
    {
     "name": "stdout",
     "output_type": "stream",
     "text": [
      "[G-1]  LOSS (1.3858/1.3866)  ACC (0.53/0.50) LR (0.000500)\n"
     ]
    },
    {
     "name": "stderr",
     "output_type": "stream",
     "text": [
      " 20%|██        | 2001/10000 [24:40<1:38:38,  1.35it/s]"
     ]
    },
    {
     "name": "stdout",
     "output_type": "stream",
     "text": [
      "[G-2001]  LOSS (0.5524/1.2357)  ACC (0.71/0.54) LR (0.000405)\n"
     ]
    },
    {
     "name": "stderr",
     "output_type": "stream",
     "text": [
      " 40%|████      | 4001/10000 [49:05<1:13:35,  1.36it/s]"
     ]
    },
    {
     "name": "stdout",
     "output_type": "stream",
     "text": [
      "[G-4001]  LOSS (0.5447/1.7935)  ACC (0.74/0.53) LR (0.000328)\n"
     ]
    },
    {
     "name": "stderr",
     "output_type": "stream",
     "text": [
      " 60%|██████    | 6001/10000 [1:13:30<48:58,  1.36it/s]  "
     ]
    },
    {
     "name": "stdout",
     "output_type": "stream",
     "text": [
      "[G-6001]  LOSS (0.4796/1.7128)  ACC (0.80/0.53) LR (0.000266)\n"
     ]
    },
    {
     "name": "stderr",
     "output_type": "stream",
     "text": [
      " 80%|████████  | 8001/10000 [1:37:55<24:27,  1.36it/s]"
     ]
    },
    {
     "name": "stdout",
     "output_type": "stream",
     "text": [
      "[G-8001]  LOSS (0.3972/1.7580)  ACC (0.85/0.53) LR (0.000215)\n"
     ]
    },
    {
     "name": "stderr",
     "output_type": "stream",
     "text": [
      "100%|██████████| 10000/10000 [2:02:21<00:00,  1.36it/s]\n"
     ]
    },
    {
     "name": "stdout",
     "output_type": "stream",
     "text": [
      " [*] Saving checkpoints... ../RESULTS/Sequence_Analyzer/NHIS/MODEL_2\n",
      "\n",
      "[DONE@@]\n",
      "\n",
      "\t[@] MODEL-(3/3) Training.. \n",
      "\n",
      "{'label_size': 2, 'feature_size': 6902, 'max_time_step': 30, 'decay_rate': 0.9, 'keep_prob': 0.7, 'batch_size': 256, 'l2_reg': 0.001, 'emb_matrix': False, 'RNN_arch': {'drop_out': [False, True], 'cell_type': 'GRU', 'hidden_size': [96, 64]}, 'printBy': 2000, 'MODEL_ARCH': 'RNN_MODEL', 'emb_size': 128, 'saveBy': 1000000, 'train_steps': 10000, 'lr': 5e-05, 'decay_steps': 1000}\n",
      "\n"
     ]
    },
    {
     "name": "stderr",
     "output_type": "stream",
     "text": [
      "\r",
      "  0%|          | 0/10000 [00:00<?, ?it/s]"
     ]
    },
    {
     "name": "stdout",
     "output_type": "stream",
     "text": [
      "[@] New game..\n",
      "\n",
      "training..\n",
      "\n"
     ]
    },
    {
     "name": "stderr",
     "output_type": "stream",
     "text": [
      "\r",
      "  0%|          | 1/10000 [00:03<8:21:55,  3.01s/it]"
     ]
    },
    {
     "name": "stdout",
     "output_type": "stream",
     "text": [
      "[G-1]  LOSS (1.3994/1.4004)  ACC (0.50/0.49) LR (0.000050)\n"
     ]
    },
    {
     "name": "stderr",
     "output_type": "stream",
     "text": [
      " 20%|██        | 2001/10000 [24:17<1:37:07,  1.37it/s]"
     ]
    },
    {
     "name": "stdout",
     "output_type": "stream",
     "text": [
      "[G-2001]  LOSS (0.6384/0.9498)  ACC (0.71/0.55) LR (0.000040)\n"
     ]
    },
    {
     "name": "stderr",
     "output_type": "stream",
     "text": [
      " 40%|████      | 4001/10000 [48:39<1:12:57,  1.37it/s]"
     ]
    },
    {
     "name": "stdout",
     "output_type": "stream",
     "text": [
      "[G-4001]  LOSS (0.6110/0.9687)  ACC (0.73/0.58) LR (0.000033)\n"
     ]
    },
    {
     "name": "stderr",
     "output_type": "stream",
     "text": [
      " 60%|██████    | 6001/10000 [1:12:59<48:38,  1.37it/s]  "
     ]
    },
    {
     "name": "stdout",
     "output_type": "stream",
     "text": [
      "[G-6001]  LOSS (0.5107/1.1872)  ACC (0.79/0.53) LR (0.000027)\n"
     ]
    },
    {
     "name": "stderr",
     "output_type": "stream",
     "text": [
      " 80%|████████  | 8001/10000 [1:37:03<24:14,  1.37it/s]"
     ]
    },
    {
     "name": "stdout",
     "output_type": "stream",
     "text": [
      "[G-8001]  LOSS (0.5480/1.3134)  ACC (0.77/0.52) LR (0.000022)\n"
     ]
    },
    {
     "name": "stderr",
     "output_type": "stream",
     "text": [
      "100%|██████████| 10000/10000 [2:01:26<00:00,  1.37it/s]"
     ]
    },
    {
     "name": "stdout",
     "output_type": "stream",
     "text": [
      " [*] Saving checkpoints... ../RESULTS/Sequence_Analyzer/NHIS/MODEL_3\n",
      "\n",
      "[DONE@@]\n",
      "\n",
      "[ALL DONE]\n"
     ]
    },
    {
     "name": "stderr",
     "output_type": "stream",
     "text": [
      "\n"
     ]
    }
   ],
   "source": [
    "from Train import Train_model_list\n",
    "\n",
    "Train_model_list(MODEL_LIST = model_list,\n",
    "                 DATASETS = datasets,\n",
    "                 RESULT_BASE_PATH = '../RESULTS/', \n",
    "                 PROJECT_NAME = 'Sequence_Analyzer', \n",
    "                 DB_NAME = 'NHIS', \n",
    "                 new_game = True, \n",
    "                 verbose = True)"
   ]
  },
  {
   "cell_type": "markdown",
   "metadata": {},
   "source": [
    "# [3] Eval"
   ]
  },
  {
   "cell_type": "markdown",
   "metadata": {},
   "source": [
    "## (3-1) Model testing"
   ]
  },
  {
   "cell_type": "code",
   "execution_count": 6,
   "metadata": {},
   "outputs": [
    {
     "name": "stdout",
     "output_type": "stream",
     "text": [
      "\n",
      "\t[@] MODEL-(0/3) Training.. \n",
      "\n",
      "{'label_size': 2, 'feature_size': 6902, 'max_time_step': 30, 'decay_rate': 0.9, 'keep_prob': 0.7, 'batch_size': 256, 'l2_reg': 0.001, 'emb_matrix': False, 'RNN_arch': {'drop_out': [False, True], 'cell_type': 'GRU', 'hidden_size': [96, 64]}, 'printBy': 2000, 'MODEL_ARCH': 'RNN_MODEL', 'emb_size': 64, 'saveBy': 1000000, 'train_steps': 10000, 'lr': 0.0005, 'decay_steps': 1000}\n",
      "\n",
      "\n",
      "testing..\n",
      "\n",
      "test_examples:  4744\n",
      "INFO:tensorflow:Restoring parameters from /home/jin/scripts/NEW/RESULTS/Sequence_Analyzer/NHIS/MODEL_0/MODEL_0-10000\n",
      "Loading SUCCESS.. \n",
      "\n",
      "[Report]\n",
      "  Avg of batch_loss: 1.1391992717981339\n",
      "  Avg of batch_acc\n",
      "  AUROC of 4744-samples: 0.4799980659326291\n"
     ]
    },
    {
     "data": {
      "image/png": "[encoded data removed]",
      "text/plain": [
       "<Figure size 720x504 with 1 Axes>"
      ]
     },
     "metadata": {},
     "output_type": "display_data"
    },
    {
     "name": "stdout",
     "output_type": "stream",
     "text": [
      "\n",
      "\t[@] MODEL-(1/3) Training.. \n",
      "\n",
      "{'label_size': 2, 'feature_size': 6902, 'max_time_step': 30, 'decay_rate': 0.9, 'keep_prob': 0.7, 'batch_size': 256, 'l2_reg': 0.001, 'emb_matrix': False, 'RNN_arch': {'drop_out': [False, True], 'cell_type': 'GRU', 'hidden_size': [96, 64]}, 'printBy': 2000, 'MODEL_ARCH': 'RNN_MODEL', 'emb_size': 64, 'saveBy': 1000000, 'train_steps': 10000, 'lr': 5e-05, 'decay_steps': 1000}\n",
      "\n",
      "\n",
      "testing..\n",
      "\n",
      "test_examples:  4744\n",
      "INFO:tensorflow:Restoring parameters from /home/jin/scripts/NEW/RESULTS/Sequence_Analyzer/NHIS/MODEL_1/MODEL_1-10000\n",
      "Loading SUCCESS.. \n",
      "\n",
      "[Report]\n",
      "  Avg of batch_loss: 0.8593689368830787\n",
      "  Avg of batch_acc\n",
      "  AUROC of 4744-samples: 0.4975863315917647\n"
     ]
    },
    {
     "data": {
      "image/png": "[encoded data removed]",
      "text/plain": [
       "<Figure size 720x504 with 1 Axes>"
      ]
     },
     "metadata": {},
     "output_type": "display_data"
    },
    {
     "name": "stdout",
     "output_type": "stream",
     "text": [
      "\n",
      "\t[@] MODEL-(2/3) Training.. \n",
      "\n",
      "{'label_size': 2, 'feature_size': 6902, 'max_time_step': 30, 'decay_rate': 0.9, 'keep_prob': 0.7, 'batch_size': 256, 'l2_reg': 0.001, 'emb_matrix': False, 'RNN_arch': {'drop_out': [False, True], 'cell_type': 'GRU', 'hidden_size': [96, 64]}, 'printBy': 2000, 'MODEL_ARCH': 'RNN_MODEL', 'emb_size': 128, 'saveBy': 1000000, 'train_steps': 10000, 'lr': 0.0005, 'decay_steps': 1000}\n",
      "\n",
      "\n",
      "testing..\n",
      "\n",
      "test_examples:  4744\n",
      "INFO:tensorflow:Restoring parameters from /home/jin/scripts/NEW/RESULTS/Sequence_Analyzer/NHIS/MODEL_2/MODEL_2-10000\n",
      "Loading SUCCESS.. \n",
      "\n",
      "[Report]\n",
      "  Avg of batch_loss: 1.1540612313482497\n",
      "  Avg of batch_acc\n",
      "  AUROC of 4744-samples: 0.49441001751556785\n"
     ]
    },
    {
     "data": {
      "image/png": "[encoded data removed]",
      "text/plain": [
       "<Figure size 720x504 with 1 Axes>"
      ]
     },
     "metadata": {},
     "output_type": "display_data"
    },
    {
     "name": "stdout",
     "output_type": "stream",
     "text": [
      "\n",
      "\t[@] MODEL-(3/3) Training.. \n",
      "\n",
      "{'label_size': 2, 'feature_size': 6902, 'max_time_step': 30, 'decay_rate': 0.9, 'keep_prob': 0.7, 'batch_size': 256, 'l2_reg': 0.001, 'emb_matrix': False, 'RNN_arch': {'drop_out': [False, True], 'cell_type': 'GRU', 'hidden_size': [96, 64]}, 'printBy': 2000, 'MODEL_ARCH': 'RNN_MODEL', 'emb_size': 128, 'saveBy': 1000000, 'train_steps': 10000, 'lr': 5e-05, 'decay_steps': 1000}\n",
      "\n",
      "\n",
      "testing..\n",
      "\n",
      "test_examples:  4744\n",
      "INFO:tensorflow:Restoring parameters from /home/jin/scripts/NEW/RESULTS/Sequence_Analyzer/NHIS/MODEL_3/MODEL_3-10000\n",
      "Loading SUCCESS.. \n",
      "\n",
      "[Report]\n",
      "  Avg of batch_loss: 0.9250165157847934\n",
      "  Avg of batch_acc\n",
      "  AUROC of 4744-samples: 0.4845467846810968\n"
     ]
    },
    {
     "data": {
      "image/png": "[encoded data removed]",
      "text/plain": [
       "<Figure size 720x504 with 1 Axes>"
      ]
     },
     "metadata": {},
     "output_type": "display_data"
    },
    {
     "name": "stdout",
     "output_type": "stream",
     "text": [
      "Dumping at.. ../RESULTS/Sequence_Analyzer/NHIS/df_RESULTS.pkl\n",
      "\n",
      "[ALL DONE]\n"
     ]
    }
   ],
   "source": [
    "%matplotlib inline\n",
    "\n",
    "from Train import Test_model_list\n",
    "\n",
    "Test_model_list(MODEL_LIST = model_list,\n",
    "                DATASETS = datasets,\n",
    "                RESULT_BASE_PATH = '../RESULTS/', \n",
    "                PROJECT_NAME = 'Sequence_Analyzer', \n",
    "                DB_NAME = 'NHIS')"
   ]
  },
  {
   "cell_type": "markdown",
   "metadata": {},
   "source": [
    "## (3-2) Sort models by performance"
   ]
  },
  {
   "cell_type": "code",
   "execution_count": 7,
   "metadata": {},
   "outputs": [
    {
     "name": "stdout",
     "output_type": "stream",
     "text": [
      "Loading at.. ../RESULTS/Sequence_Analyzer/NHIS/df_RESULTS.pkl\n"
     ]
    },
    {
     "data": {
      "text/html": [
       "<div>\n",
       "<style scoped>\n",
       "    .dataframe tbody tr th:only-of-type {\n",
       "        vertical-align: middle;\n",
       "    }\n",
       "\n",
       "    .dataframe tbody tr th {\n",
       "        vertical-align: top;\n",
       "    }\n",
       "\n",
       "    .dataframe thead th {\n",
       "        text-align: right;\n",
       "    }\n",
       "</style>\n",
       "<table border=\"1\" class=\"dataframe\">\n",
       "  <thead>\n",
       "    <tr style=\"text-align: right;\">\n",
       "      <th></th>\n",
       "      <th>Model_Index</th>\n",
       "      <th>Avg_Batch_Loss</th>\n",
       "      <th>Avg_Batch_Acc</th>\n",
       "      <th>AUROC</th>\n",
       "      <th>Flag</th>\n",
       "    </tr>\n",
       "  </thead>\n",
       "  <tbody>\n",
       "    <tr>\n",
       "      <th>0</th>\n",
       "      <td>0</td>\n",
       "      <td>1.139199</td>\n",
       "      <td>0.647135</td>\n",
       "      <td>0.479998</td>\n",
       "      <td>{'label_size': 2, 'feature_size': 6902, 'max_t...</td>\n",
       "    </tr>\n",
       "    <tr>\n",
       "      <th>1</th>\n",
       "      <td>1</td>\n",
       "      <td>0.859369</td>\n",
       "      <td>0.595269</td>\n",
       "      <td>0.497586</td>\n",
       "      <td>{'label_size': 2, 'feature_size': 6902, 'max_t...</td>\n",
       "    </tr>\n",
       "    <tr>\n",
       "      <th>2</th>\n",
       "      <td>2</td>\n",
       "      <td>1.154061</td>\n",
       "      <td>0.618707</td>\n",
       "      <td>0.494410</td>\n",
       "      <td>{'label_size': 2, 'feature_size': 6902, 'max_t...</td>\n",
       "    </tr>\n",
       "    <tr>\n",
       "      <th>3</th>\n",
       "      <td>3</td>\n",
       "      <td>0.925017</td>\n",
       "      <td>0.528429</td>\n",
       "      <td>0.484547</td>\n",
       "      <td>{'label_size': 2, 'feature_size': 6902, 'max_t...</td>\n",
       "    </tr>\n",
       "  </tbody>\n",
       "</table>\n",
       "</div>"
      ],
      "text/plain": [
       "   Model_Index  Avg_Batch_Loss  Avg_Batch_Acc     AUROC  \\\n",
       "0            0        1.139199       0.647135  0.479998   \n",
       "1            1        0.859369       0.595269  0.497586   \n",
       "2            2        1.154061       0.618707  0.494410   \n",
       "3            3        0.925017       0.528429  0.484547   \n",
       "\n",
       "                                                Flag  \n",
       "0  {'label_size': 2, 'feature_size': 6902, 'max_t...  \n",
       "1  {'label_size': 2, 'feature_size': 6902, 'max_t...  \n",
       "2  {'label_size': 2, 'feature_size': 6902, 'max_t...  \n",
       "3  {'label_size': 2, 'feature_size': 6902, 'max_t...  "
      ]
     },
     "execution_count": 7,
     "metadata": {},
     "output_type": "execute_result"
    }
   ],
   "source": [
    "from Report import Results_model_list\n",
    "\n",
    "df = Results_model_list(RESULT_BASE_PATH = '../RESULTS/', \n",
    "                   PROJECT_NAME = 'Sequence_Analyzer', \n",
    "                   DB_NAME = 'NHIS')\n",
    "df"
   ]
  },
  {
   "cell_type": "code",
   "execution_count": null,
   "metadata": {},
   "outputs": [],
   "source": []
  },
  {
   "cell_type": "code",
   "execution_count": null,
   "metadata": {},
   "outputs": [],
   "source": []
  },
  {
   "cell_type": "code",
   "execution_count": null,
   "metadata": {},
   "outputs": [],
   "source": []
  },
  {
   "cell_type": "code",
   "execution_count": null,
   "metadata": {},
   "outputs": [],
   "source": []
  },
  {
   "cell_type": "code",
   "execution_count": null,
   "metadata": {},
   "outputs": [],
   "source": []
  },
  {
   "cell_type": "code",
   "execution_count": null,
   "metadata": {},
   "outputs": [],
   "source": []
  },
  {
   "cell_type": "code",
   "execution_count": 20,
   "metadata": {},
   "outputs": [
    {
     "name": "stdout",
     "output_type": "stream",
     "text": [
      "\n",
      "\n",
      "@@@@@@@@@@@@@@@@@@@@@@@@@@@@@@@@@@@@@@@@@@@@@@@@@@@@@@@@@@@@@@@@@@@@@@@@@@@@@@@@@@@@@@@@@@@@@@@@@@@@\n",
      "@@@@@@@@@@@@@@@@@@@@@@@@@@@@@@@@@@@@@@@@@@@@@@@@@@@@@@@@@@@@@@@@@@@@@@@@@@@@@@@@@@@@@@@@@@@@@@@@@@@@\n",
      "\n",
      "2018-09-27 10:49:59.444820\n",
      "\n",
      "[Start Logging..]\n",
      "\n",
      "\n",
      "\n",
      " (params) \n",
      "\n",
      "====================================================================================================\n",
      "\n",
      "\n",
      "[Level 4] Multihot to Dataset\n",
      "\n",
      "\n",
      "2018-09-27 10:49:59.451965\n",
      "\n",
      "  [multihot_to_datasets]\n",
      "\n",
      "Loading at.. ../../TEST/DATA/t_pid_list.pkl\n",
      "Loading at.. ../../TEST/DATA/t_seq_data.pkl\n",
      "Loading at.. ../../TEST/DATA/t_demo_data.pkl\n",
      "Loading at.. ../../TEST/DATA/t_seq_len.pkl\n",
      "Loading at.. ../../TEST/DATA/c_pid_list.pkl\n",
      "Loading at.. ../../TEST/DATA/c_seq_data.pkl\n",
      "Loading at.. ../../TEST/DATA/c_demo_data.pkl\n",
      "Loading at.. ../../TEST/DATA/c_seq_len.pkl\n",
      "\n",
      "Number of T: 3335\n",
      "Number of C: 20010\n",
      "\n",
      "    (Split data)\n",
      "\n",
      "    (Making datasets)\n",
      "\n",
      "[Datasets Info.]\n",
      "\n",
      "                  [OPTION]   [VALUE]\n",
      "              CDM_DB_NAME:   NHIS_NSC\n",
      "       CONFIG_FOLDER_PATH:   ../../TEST/CONFIG/\n",
      "         DATA_FOLDER_PATH:   ../../TEST/DATA/\n",
      "         DB_CONN_FILENAME:   DB_connection.txt\n",
      "      DS_PARAMS_FILE_NAME:   DS_PARAMS.txt\n",
      "             FEATURE_SIZE:   7085\n",
      "               LABEL_SIZE:   2\n",
      "            MAX_TIME_STEP:   30\n",
      "           RESULT_DB_NAME:   sequence_datasetmaker\n",
      "       RESULT_FOLDER_PATH:   ../../TEST/RESULT/\n",
      "\n",
      "[ALL DONE!!]\n",
      "\n",
      "\n"
     ]
    }
   ],
   "source": [
    "from cdm_datasetmaker import Get_datasets\n",
    "datasets = Get_datasets(CONFIG_FOLDER_PATH = '../../TEST/CONFIG/',\n",
    "                        DATA_FOLDER_PATH = '../../TEST/DATA/',\n",
    "                        RESULT_FOLDER_PATH = '../../TEST/RESULT/',\n",
    "                        PROJECT_NAME = 'emb_test',\n",
    "                        DB_CONN_FILENAME = 'DB_connection.txt',\n",
    "                        DS_PARAMS_FILE_NAME = 'DS_PARAMS.txt', \n",
    "                        PIPELINE_START_LEVEL = 4)"
   ]
  },
  {
   "cell_type": "code",
   "execution_count": 24,
   "metadata": {},
   "outputs": [
    {
     "data": {
      "text/plain": [
       "{'CDM_DB_NAME': ['NHIS_NSC'],\n",
       " 'LEFT_CONTEXT_SIZE': [2],\n",
       " 'RIGHT_CONTEXT_SIZE': [2],\n",
       " 'DIRECTED': [False],\n",
       " 'MODEL_ARCH': ['LINE_MODEL'],\n",
       " 'BATCH_SIZE': [128],\n",
       " 'EMB_SIZE': [32, 64],\n",
       " 'LR_p1': [0.5, 0.05],\n",
       " 'DECAY_STEPS': [1000],\n",
       " 'DECAY_RATE': [0.9],\n",
       " 'TRAIN_STEPS_p1': [1000],\n",
       " 'TRAIN_STEPS_p2': [1000],\n",
       " 'PRINT_BY': [2000],\n",
       " 'CONFIG_FOLDER_PATH': '../CONFIG/',\n",
       " 'RESULT_FOLDER_PATH': '../RESULT/',\n",
       " 'PROJECT_NAME': 'project_emb',\n",
       " 'EMB_PARAMS_FILE_NAME': 'EMB_PARAMS_TEST.txt',\n",
       " 'DATASETS': <cdm_datasetmaker.multihot2datasets.multihot_to_datasets.<locals>.DATASETS at 0x123009f60>,\n",
       " 'SKIP_EDGE_EXTRACTING': True,\n",
       " 'NEW_GAME': True,\n",
       " 'DUMPING_PATH': '../RESULT/project_emb/NHIS_NSC'}"
      ]
     },
     "execution_count": 24,
     "metadata": {},
     "output_type": "execute_result"
    }
   ],
   "source": [
    "def get_param_dict(FILE_NAME, CONFIG_FOLDER_PATH):\n",
    "    import os, re\n",
    "    FILE_PATH = os.path.join(CONFIG_FOLDER_PATH, FILE_NAME)\n",
    "    param_dict = dict()\n",
    "    with open(FILE_PATH, 'r') as f:\n",
    "        lines = f.readlines()\n",
    "        for line in lines:\n",
    "            try: #remove comments\n",
    "                cut_idx = re.search('#.*', line).start()\n",
    "                line = line[:cut_idx]\n",
    "            except:\n",
    "                pass\n",
    "            \n",
    "            particles = [p.strip() for p in line.split('=', maxsplit=1)]\n",
    "            if len(particles)==1:\n",
    "                continue\n",
    "            key = particles[0]\n",
    "            val = particles[1:] \n",
    "            \n",
    "            if ',' in val[0]:\n",
    "                val = [v.strip() for v in val[0].split(',')]\n",
    "            try: val = [int(v) for v in val]\n",
    "            except:\n",
    "                try: val = [float(v) for v in val]\n",
    "                except:\n",
    "                    val = [True if v.lower()=='true' else False if v.lower()=='false' else v for v in val]\n",
    "            param_dict[key] = val\n",
    "    return param_dict\n",
    "\n",
    "\n",
    "import os\n",
    "    \n",
    "kwargs = {'CONFIG_FOLDER_PATH': '../CONFIG/', \n",
    "          'RESULT_FOLDER_PATH': '../RESULT/',\n",
    "          'PROJECT_NAME': 'project_emb', \n",
    "          'EMB_PARAMS_FILE_NAME': 'EMB_PARAMS_TEST.txt',\n",
    "          'DATASETS': datasets,\n",
    "          'SKIP_EDGE_EXTRACTING': True,\n",
    "          'NEW_GAME': True}\n",
    "\n",
    "param_dict = get_param_dict(kwargs['EMB_PARAMS_FILE_NAME'], kwargs['CONFIG_FOLDER_PATH'])\n",
    "param_dict.update(kwargs)\n",
    "\n",
    "param_dict['DUMPING_PATH'] = os.path.join(param_dict['RESULT_FOLDER_PATH'], \n",
    "                                          param_dict['PROJECT_NAME'], \n",
    "                                          param_dict['DATASETS'].info['CDM_DB_NAME'])\n",
    "param_dict"
   ]
  },
  {
   "cell_type": "code",
   "execution_count": 25,
   "metadata": {},
   "outputs": [
    {
     "data": {
      "text/plain": [
       "{'CDM_DB_NAME': ['NHIS_NSC'],\n",
       " 'MODEL_ARCH': ['LINE_MODEL'],\n",
       " 'BATCH_SIZE': [128],\n",
       " 'EMB_SIZE': [32, 64],\n",
       " 'LR_p1': [0.5, 0.05],\n",
       " 'DECAY_STEPS': [1000],\n",
       " 'DECAY_RATE': [0.9],\n",
       " 'TRAIN_STEPS_p1': [1000],\n",
       " 'TRAIN_STEPS_p2': [1000],\n",
       " 'PRINT_BY': [2000],\n",
       " 'DUMPING_PATH': ['../RESULT/project_emb/NHIS_NSC']}"
      ]
     },
     "execution_count": 25,
     "metadata": {},
     "output_type": "execute_result"
    }
   ],
   "source": [
    "def param_dict_to_flag_grid(param_dict):\n",
    "    flag_grid = dict()    \n",
    "    for k, v in param_dict.items():\n",
    "        if k in ['DATASETS', 'NEW_GAME', 'CONFIG_FOLDER_PATH', 'RESULT_FOLDER_PATH', \n",
    "                 'LEFT_CONTEXT_SIZE', 'RIGHT_CONTEXT_SIZE', 'DIRECTED', 'SKIP_EDGE_EXTRACTING',\n",
    "                 'PROJECT_NAME', 'EMB_PARAMS_FILE_NAME']:\n",
    "            continue\n",
    "        if k=='DUMPING_PATH':\n",
    "            flag_grid[k] = [v]\n",
    "        else:\n",
    "            flag_grid[k] = v\n",
    "    return flag_grid\n",
    "\n",
    "flag_grid = param_dict_to_flag_grid(param_dict)\n",
    "flag_grid"
   ]
  },
  {
   "cell_type": "code",
   "execution_count": 26,
   "metadata": {
    "scrolled": true
   },
   "outputs": [
    {
     "data": {
      "text/plain": [
       "[{'CDM_DB_NAME': 'NHIS_NSC',\n",
       "  'MODEL_ARCH': 'LINE_MODEL',\n",
       "  'BATCH_SIZE': 128,\n",
       "  'EMB_SIZE': 32,\n",
       "  'LR_p1': 0.5,\n",
       "  'DECAY_STEPS': 1000,\n",
       "  'DECAY_RATE': 0.9,\n",
       "  'TRAIN_STEPS_p1': 1000,\n",
       "  'TRAIN_STEPS_p2': 1000,\n",
       "  'PRINT_BY': 2000,\n",
       "  'DUMPING_PATH': '../RESULT/project_emb/NHIS_NSC',\n",
       "  'FEATURE_SIZE': 7085},\n",
       " {'CDM_DB_NAME': 'NHIS_NSC',\n",
       "  'MODEL_ARCH': 'LINE_MODEL',\n",
       "  'BATCH_SIZE': 128,\n",
       "  'EMB_SIZE': 32,\n",
       "  'LR_p1': 0.05,\n",
       "  'DECAY_STEPS': 1000,\n",
       "  'DECAY_RATE': 0.9,\n",
       "  'TRAIN_STEPS_p1': 1000,\n",
       "  'TRAIN_STEPS_p2': 1000,\n",
       "  'PRINT_BY': 2000,\n",
       "  'DUMPING_PATH': '../RESULT/project_emb/NHIS_NSC',\n",
       "  'FEATURE_SIZE': 7085},\n",
       " {'CDM_DB_NAME': 'NHIS_NSC',\n",
       "  'MODEL_ARCH': 'LINE_MODEL',\n",
       "  'BATCH_SIZE': 128,\n",
       "  'EMB_SIZE': 64,\n",
       "  'LR_p1': 0.5,\n",
       "  'DECAY_STEPS': 1000,\n",
       "  'DECAY_RATE': 0.9,\n",
       "  'TRAIN_STEPS_p1': 1000,\n",
       "  'TRAIN_STEPS_p2': 1000,\n",
       "  'PRINT_BY': 2000,\n",
       "  'DUMPING_PATH': '../RESULT/project_emb/NHIS_NSC',\n",
       "  'FEATURE_SIZE': 7085},\n",
       " {'CDM_DB_NAME': 'NHIS_NSC',\n",
       "  'MODEL_ARCH': 'LINE_MODEL',\n",
       "  'BATCH_SIZE': 128,\n",
       "  'EMB_SIZE': 64,\n",
       "  'LR_p1': 0.05,\n",
       "  'DECAY_STEPS': 1000,\n",
       "  'DECAY_RATE': 0.9,\n",
       "  'TRAIN_STEPS_p1': 1000,\n",
       "  'TRAIN_STEPS_p2': 1000,\n",
       "  'PRINT_BY': 2000,\n",
       "  'DUMPING_PATH': '../RESULT/project_emb/NHIS_NSC',\n",
       "  'FEATURE_SIZE': 7085}]"
      ]
     },
     "execution_count": 26,
     "metadata": {},
     "output_type": "execute_result"
    }
   ],
   "source": [
    "def get_flag_list(flag_grid, FEATURE_SIZE):\n",
    "    #update flag_grid \n",
    "    flag_grid['FEATURE_SIZE'] = [FEATURE_SIZE]\n",
    "    \n",
    "    #flag_grid to flag_list\n",
    "    from itertools import product\n",
    "    flag_list = [dict(list(zip(list(flag_grid.keys()), values))) \n",
    "                 for values in list(product(*flag_grid.values()))]\n",
    "    \n",
    "    #remove duplicated flag\n",
    "    flag_list_new_unique = []\n",
    "    for d_item in flag_list:\n",
    "        if d_item not in flag_list_new_unique:\n",
    "            flag_list_new_unique.append(d_item)\n",
    "    return flag_list_new_unique\n",
    "            \n",
    "flag_list_new_unique = get_flag_list(flag_grid, param_dict['DATASETS'].info['FEATURE_SIZE'])\n",
    "flag_list_new_unique"
   ]
  },
  {
   "cell_type": "code",
   "execution_count": 27,
   "metadata": {},
   "outputs": [
    {
     "ename": "KeyError",
     "evalue": "'LR_p2'",
     "output_type": "error",
     "traceback": [
      "\u001b[0;31m---------------------------------------------------------------------------\u001b[0m",
      "\u001b[0;31mKeyError\u001b[0m                                  Traceback (most recent call last)",
      "\u001b[0;32m<ipython-input-27-3ab231c27f29>\u001b[0m in \u001b[0;36m<module>\u001b[0;34m()\u001b[0m\n\u001b[1;32m    181\u001b[0m     \u001b[0;32mreturn\u001b[0m \u001b[0mmodel_list\u001b[0m\u001b[0;34m\u001b[0m\u001b[0m\n\u001b[1;32m    182\u001b[0m \u001b[0;34m\u001b[0m\u001b[0m\n\u001b[0;32m--> 183\u001b[0;31m \u001b[0mmodel_list\u001b[0m \u001b[0;34m=\u001b[0m \u001b[0mget_model_list\u001b[0m\u001b[0;34m(\u001b[0m\u001b[0mparam_dict\u001b[0m\u001b[0;34m)\u001b[0m\u001b[0;34m\u001b[0m\u001b[0m\n\u001b[0m\u001b[1;32m    184\u001b[0m \u001b[0mmodel_list\u001b[0m\u001b[0;34m\u001b[0m\u001b[0m\n",
      "\u001b[0;32m<ipython-input-27-3ab231c27f29>\u001b[0m in \u001b[0;36mget_model_list\u001b[0;34m(param_dict)\u001b[0m\n\u001b[1;32m    178\u001b[0m     \u001b[0;32mfor\u001b[0m \u001b[0mm_idx\u001b[0m\u001b[0;34m,\u001b[0m \u001b[0mflag\u001b[0m \u001b[0;32min\u001b[0m \u001b[0menumerate\u001b[0m\u001b[0;34m(\u001b[0m\u001b[0mflag_list\u001b[0m\u001b[0;34m)\u001b[0m\u001b[0;34m:\u001b[0m\u001b[0;34m\u001b[0m\u001b[0m\n\u001b[1;32m    179\u001b[0m         \u001b[0mflag\u001b[0m\u001b[0;34m[\u001b[0m\u001b[0;34m'MODEL_NAME'\u001b[0m\u001b[0;34m]\u001b[0m \u001b[0;34m=\u001b[0m \u001b[0;34m'MODEL_{}'\u001b[0m\u001b[0;34m.\u001b[0m\u001b[0mformat\u001b[0m\u001b[0;34m(\u001b[0m\u001b[0mm_idx\u001b[0m\u001b[0;34m+\u001b[0m\u001b[0;36m1\u001b[0m\u001b[0;34m)\u001b[0m\u001b[0;34m\u001b[0m\u001b[0m\n\u001b[0;32m--> 180\u001b[0;31m         \u001b[0mmodel_list\u001b[0m\u001b[0;34m.\u001b[0m\u001b[0mappend\u001b[0m\u001b[0;34m(\u001b[0m\u001b[0mMODEL_DICT\u001b[0m\u001b[0;34m[\u001b[0m\u001b[0mflag\u001b[0m\u001b[0;34m[\u001b[0m\u001b[0;34m'MODEL_ARCH'\u001b[0m\u001b[0;34m]\u001b[0m\u001b[0;34m]\u001b[0m\u001b[0;34m(\u001b[0m\u001b[0mflag\u001b[0m\u001b[0;34m)\u001b[0m\u001b[0;34m)\u001b[0m\u001b[0;34m\u001b[0m\u001b[0m\n\u001b[0m\u001b[1;32m    181\u001b[0m     \u001b[0;32mreturn\u001b[0m \u001b[0mmodel_list\u001b[0m\u001b[0;34m\u001b[0m\u001b[0m\n\u001b[1;32m    182\u001b[0m \u001b[0;34m\u001b[0m\u001b[0m\n",
      "\u001b[0;32m<ipython-input-27-3ab231c27f29>\u001b[0m in \u001b[0;36m__init__\u001b[0;34m(self, flag)\u001b[0m\n\u001b[1;32m     36\u001b[0m         \u001b[0mself\u001b[0m\u001b[0;34m.\u001b[0m\u001b[0mg\u001b[0m \u001b[0;34m=\u001b[0m \u001b[0mtf\u001b[0m\u001b[0;34m.\u001b[0m\u001b[0mGraph\u001b[0m\u001b[0;34m(\u001b[0m\u001b[0;34m)\u001b[0m\u001b[0;34m\u001b[0m\u001b[0m\n\u001b[1;32m     37\u001b[0m         \u001b[0mself\u001b[0m\u001b[0;34m.\u001b[0m\u001b[0mg_vis\u001b[0m \u001b[0;34m=\u001b[0m \u001b[0mtf\u001b[0m\u001b[0;34m.\u001b[0m\u001b[0mGraph\u001b[0m\u001b[0;34m(\u001b[0m\u001b[0;34m)\u001b[0m\u001b[0;34m\u001b[0m\u001b[0m\n\u001b[0;32m---> 38\u001b[0;31m         \u001b[0mself\u001b[0m\u001b[0;34m.\u001b[0m\u001b[0mBuilding_graph\u001b[0m\u001b[0;34m(\u001b[0m\u001b[0;34m)\u001b[0m\u001b[0;34m\u001b[0m\u001b[0m\n\u001b[0m\u001b[1;32m     39\u001b[0m \u001b[0;34m\u001b[0m\u001b[0m\n\u001b[1;32m     40\u001b[0m     \u001b[0;32mdef\u001b[0m \u001b[0m_get_logger\u001b[0m\u001b[0;34m(\u001b[0m\u001b[0mself\u001b[0m\u001b[0;34m)\u001b[0m\u001b[0;34m:\u001b[0m\u001b[0;34m\u001b[0m\u001b[0m\n",
      "\u001b[0;32m<ipython-input-27-3ab231c27f29>\u001b[0m in \u001b[0;36mBuilding_graph\u001b[0;34m(self)\u001b[0m\n\u001b[1;32m    159\u001b[0m     \u001b[0;32mdef\u001b[0m \u001b[0mBuilding_graph\u001b[0m\u001b[0;34m(\u001b[0m\u001b[0mself\u001b[0m\u001b[0;34m)\u001b[0m\u001b[0;34m:\u001b[0m\u001b[0;34m\u001b[0m\u001b[0m\n\u001b[1;32m    160\u001b[0m         \u001b[0;32mwith\u001b[0m \u001b[0mself\u001b[0m\u001b[0;34m.\u001b[0m\u001b[0mg\u001b[0m\u001b[0;34m.\u001b[0m\u001b[0mas_default\u001b[0m\u001b[0;34m(\u001b[0m\u001b[0;34m)\u001b[0m\u001b[0;34m:\u001b[0m\u001b[0;34m\u001b[0m\u001b[0m\n\u001b[0;32m--> 161\u001b[0;31m             \u001b[0mself\u001b[0m\u001b[0;34m.\u001b[0m\u001b[0m_basic_tensors\u001b[0m\u001b[0;34m(\u001b[0m\u001b[0;34m)\u001b[0m\u001b[0;34m\u001b[0m\u001b[0m\n\u001b[0m\u001b[1;32m    162\u001b[0m             \u001b[0mself\u001b[0m\u001b[0;34m.\u001b[0m\u001b[0m_input_layer_tensors\u001b[0m\u001b[0;34m(\u001b[0m\u001b[0;34m)\u001b[0m\u001b[0;34m\u001b[0m\u001b[0m\n\u001b[1;32m    163\u001b[0m             \u001b[0mself\u001b[0m\u001b[0;34m.\u001b[0m\u001b[0m_Inference\u001b[0m\u001b[0;34m(\u001b[0m\u001b[0;34m)\u001b[0m\u001b[0;34m\u001b[0m\u001b[0m\n",
      "\u001b[0;32m<ipython-input-27-3ab231c27f29>\u001b[0m in \u001b[0;36m_basic_tensors\u001b[0;34m(self)\u001b[0m\n\u001b[1;32m     50\u001b[0m                                                                \u001b[0mself\u001b[0m\u001b[0;34m.\u001b[0m\u001b[0mflag\u001b[0m\u001b[0;34m[\u001b[0m\u001b[0;34m'DECAY_STEPS'\u001b[0m\u001b[0;34m]\u001b[0m\u001b[0;34m,\u001b[0m \u001b[0mself\u001b[0m\u001b[0;34m.\u001b[0m\u001b[0mflag\u001b[0m\u001b[0;34m[\u001b[0m\u001b[0;34m'DECAY_RATE'\u001b[0m\u001b[0;34m]\u001b[0m\u001b[0;34m,\u001b[0m\u001b[0;34m\u001b[0m\u001b[0m\n\u001b[1;32m     51\u001b[0m                                                                staircase=True, name='ExpDecay_lr_p1')\n\u001b[0;32m---> 52\u001b[0;31m                 self.tensorDict['lr_p2'] = tf.train.exponential_decay(self.flag['LR_p2'], self.tensorDict['global_step'], \n\u001b[0m\u001b[1;32m     53\u001b[0m                                                                \u001b[0mself\u001b[0m\u001b[0;34m.\u001b[0m\u001b[0mflag\u001b[0m\u001b[0;34m[\u001b[0m\u001b[0;34m'DECAY_STEPS'\u001b[0m\u001b[0;34m]\u001b[0m\u001b[0;34m,\u001b[0m \u001b[0mself\u001b[0m\u001b[0;34m.\u001b[0m\u001b[0mflag\u001b[0m\u001b[0;34m[\u001b[0m\u001b[0;34m'DECAY_RATE'\u001b[0m\u001b[0;34m]\u001b[0m\u001b[0;34m,\u001b[0m\u001b[0;34m\u001b[0m\u001b[0m\n\u001b[1;32m     54\u001b[0m                                                                staircase=True, name='ExpDecay_lr_p2')\n",
      "\u001b[0;31mKeyError\u001b[0m: 'LR_p2'"
     ]
    }
   ],
   "source": [
    "import tensorflow as tf\n",
    "import numpy as np\n",
    "\n",
    "def get_logger_instance(logger_name, DUMPING_PATH, parent_name=False, stream=False):\n",
    "    import logging, os, sys, datetime\n",
    "    if parent_name:\n",
    "        logger = logging.getLogger(parent_name+'.'+logger_name)\n",
    "    else:\n",
    "        logger = logging.getLogger(logger_name)\n",
    "    logger.setLevel(logging.INFO)\n",
    "    \n",
    "    #stream_handler\n",
    "    if stream:\n",
    "        stream_hander = logging.StreamHandler(sys.stdout)\n",
    "        logger.addHandler(stream_hander)\n",
    "    \n",
    "    #file_handler  \n",
    "    if parent_name:\n",
    "        logFilePath = os.path.join(DUMPING_PATH, parent_name+'_'+logger_name+'.log')\n",
    "    else:\n",
    "        logFilePath = os.path.join(DUMPING_PATH, logger_name+'.log')\n",
    "    file_handler = logging.FileHandler(filename=logFilePath)\n",
    "    logger.addHandler(file_handler)\n",
    "    \n",
    "    if parent_name==False:\n",
    "        logger.info(\"\\n\\n\" + \"@\"*100 + \"\\n\" + \"@\"*100)\n",
    "        logger.info(\"\\n{}\".format(datetime.datetime.now()))\n",
    "        logger.info(\"\\n[Start Logging..]\\n\\n\")    \n",
    "    return logger\n",
    "\n",
    "class LINE_MODEL():\n",
    "    def __init__(self, flag):\n",
    "        self.flag = flag\n",
    "        self.tensorDict = dict()\n",
    "        self.resultDict = dict()\n",
    "        self.g = tf.Graph()\n",
    "        self.g_vis = tf.Graph()\n",
    "        self.Building_graph()\n",
    "        \n",
    "    def _get_logger(self):\n",
    "        #from .utils import get_logger_instance\n",
    "        self.logger = get_logger_instance(logger_name=self.flag['MODEL_NAME'], \n",
    "                                          DUMPING_PATH=self.flag['DUMPING_PATH'])\n",
    "        \n",
    "    def _basic_tensors(self):\n",
    "        with tf.name_scope('Learning_Rate'):    \n",
    "            self.tensorDict['global_step'] = tf.Variable(0, name=\"Global_step\", trainable=False, dtype=tf.int32)\n",
    "            if ('DECAY_STEPS' in self.flag.keys())&('DECAY_RATE' in self.flag.keys()):\n",
    "                self.tensorDict['lr_p1'] = tf.train.exponential_decay(self.flag['LR_p1'], self.tensorDict['global_step'], \n",
    "                                                               self.flag['DECAY_STEPS'], self.flag['DECAY_RATE'], \n",
    "                                                               staircase=True, name='ExpDecay_lr_p1')\n",
    "                self.tensorDict['lr_p2'] = tf.train.exponential_decay(self.flag['LR_p2'], self.tensorDict['global_step'], \n",
    "                                                               self.flag['DECAY_STEPS'], self.flag['DECAY_RATE'], \n",
    "                                                               staircase=True, name='ExpDecay_lr_p2')\n",
    "            else:\n",
    "                self.tensorDict['lr_p1'] = tf.constant(self.flag['LR_p1'], name='Constant_lr_p1')\n",
    "                self.tensorDict['lr_p2'] = tf.constant(self.flag['LR_p2'], name='Constant_lr_p2')\n",
    "                \n",
    "    def _input_layer_tensors(self):\n",
    "        with tf.name_scope('Input_Layer'):\n",
    "            self.tensorDict['focus_w'] = tf.placeholder(tf.int32, shape=[self.flag['BATCH_SIZE']], name='focus_w')\n",
    "            self.tensorDict['context_w'] = tf.placeholder(tf.int32, shape=[self.flag['BATCH_SIZE']], name='context_w')\n",
    "            self.tensorDict['score'] = tf.placeholder(tf.float32, shape=[self.flag['BATCH_SIZE']], name='score')\n",
    "            \n",
    "    def _embedding_layer_tensors(self):\n",
    "        with tf.name_scope('EMB_Layer'):\n",
    "            ## p1\n",
    "            self.tensorDict['p1_emb_matrix'] = tf.Variable(tf.random_uniform([self.flag['FEATURE_SIZE'], self.flag['EMB_SIZE']], \n",
    "                                                                             -0.01, 0.01), \n",
    "                                                           name='p1_emb_matrix')\n",
    "            self.tensorDict['p1_focus_emb_vec'] = tf.nn.embedding_lookup(self.tensorDict['p1_emb_matrix'],\n",
    "                                                                         self.tensorDict['focus_w'], \n",
    "                                                                         name='p1_focus_emb_vec')\n",
    "            self.tensorDict['p1_context_emb_vec'] = tf.nn.embedding_lookup(self.tensorDict['p1_emb_matrix'],\n",
    "                                                                           self.tensorDict['context_w'], \n",
    "                                                                           name='p1_context_emb_vec')\n",
    "            \n",
    "            ## p2\n",
    "            self.tensorDict['p2_emb_focus_matrix'] = tf.Variable(tf.random_uniform([self.flag['FEATURE_SIZE'], \n",
    "                                                                                    self.flag['EMB_SIZE']], -0.01, 0.01), \n",
    "                                                                 name='p2_emb_focus_matrix')\n",
    "            self.tensorDict['p2_focus_emb_vec'] = tf.nn.embedding_lookup(self.tensorDict['p2_emb_focus_matrix'], \n",
    "                                                                         self.tensorDict['focus_w'],\n",
    "                                                                         name='p2_focus_emb_vec')\n",
    "            \n",
    "            self.tensorDict['p2_emb_context_matrix'] = tf.Variable(tf.random_uniform([self.flag['FEATURE_SIZE'], \n",
    "                                                                                      self.flag['EMB_SIZE']], \n",
    "                                                                             -0.01, 0.01), \n",
    "                                                                   name='p2_emb_context_matrix')\n",
    "            self.tensorDict['p2_context_emb_vec'] = tf.nn.embedding_lookup(self.tensorDict['p2_emb_context_matrix'],\n",
    "                                                                           self.tensorDict['context_w'],\n",
    "                                                                           name='p2_context_emb_vec')\n",
    "    \n",
    "    def _Inference(self):        \n",
    "        with tf.name_scope('Inference'):\n",
    "            self._embedding_layer_tensors()\n",
    "        \n",
    "    def _Loss(self):\n",
    "        with tf.variable_scope('Loss'):\n",
    "            with tf.name_scope('First-order_proximity'):\n",
    "                p1_inner_product = tf.reduce_sum((self.tensorDict['p1_focus_emb_vec'] * self.tensorDict['p1_context_emb_vec']), \n",
    "                                                 axis=1, name='p1_inner_product')\n",
    "                p1_logits = tf.nn.sigmoid(p1_inner_product, name='p1_logits')\n",
    "                self.tensorDict['loss_1st_prox'] = tf.reduce_mean(-self.tensorDict['score']*tf.log(p1_logits+1e-10), \n",
    "                                                                  name='loss_1st_prox')\n",
    "\n",
    "            with tf.name_scope('Second-order_proximity'):\n",
    "                p2_inner_product = tf.reduce_sum((self.tensorDict['p2_focus_emb_vec'] * self.tensorDict['p2_context_emb_vec']), \n",
    "                                                 axis=1, name='p2_inner_product')\n",
    "                #issue; add negative sampling\n",
    "                p2_numerator = tf.exp(p2_inner_product, name='p2_numerator')\n",
    "                p2_denominator = tf.reduce_sum(tf.exp(tf.matmul(self.tensorDict['p2_focus_emb_vec'], \n",
    "                                                                tf.transpose(self.tensorDict['p2_emb_context_matrix']))) + 1e-10, \n",
    "                                               axis=1, name='p2_denominator') \n",
    "                p2_logits = tf.divide(p2_numerator, p2_denominator, name='p2_logits')\n",
    "                self.tensorDict['loss_2nd_prox'] = tf.reduce_mean(-self.tensorDict['score']*tf.log(p2_logits+1e-10), \n",
    "                                                                  name='loss_2nd_prox')\n",
    "                        \n",
    "    def _Optimizer(self):\n",
    "        with tf.name_scope('Optimizer_p1'):       \n",
    "            optimizer_p1 = tf.train.AdamOptimizer(self.tensorDict['lr_p1'], name='optimizer_p1')\n",
    "            self.tensorDict['trainOp_p1'] = optimizer_p1.minimize(self.tensorDict['loss_1st_prox'], \n",
    "                                                                  global_step=self.tensorDict['global_step'])\n",
    "        with tf.name_scope('Optimizer_p2'):       \n",
    "            optimizer_p2= tf.train.AdamOptimizer(self.tensorDict['lr_p2'], name='optimizer_p2')\n",
    "            self.tensorDict['trainOp_p2'] = optimizer_p2.minimize(self.tensorDict['loss_2nd_prox'], \n",
    "                                                                  global_step=self.tensorDict['global_step'])\n",
    "            \n",
    "    def _Summary(self):\n",
    "        ## logging\n",
    "        self.logger.info(\"\\n[FLAG]\")\n",
    "        for k, v in self.flag.items():\n",
    "            self.logger.info(\"\\t{}:  {}\".format(k, v))\n",
    "            \n",
    "        self.logger.info(\"\\n[INPUT_LAYERS]\")\n",
    "        self.logger.info(\"\\tfocus_w: {}\".format(self.tensorDict['focus_w']))\n",
    "        self.logger.info(\"\\tcontext_w: {}\".format(self.tensorDict['context_w']))\n",
    "        self.logger.info(\"\\tscore: {}\".format(self.tensorDict['score']))\n",
    "        \n",
    "        self.logger.info(\"\\n[EMB_LAYERS]\")\n",
    "        self.logger.info(\"\\tp1_emb_matrix: {}\".format(self.tensorDict['p1_emb_matrix']))\n",
    "        self.logger.info(\"\\tp1_focus_emb_vec: {}\".format(self.tensorDict['p1_focus_emb_vec']))\n",
    "        self.logger.info(\"\\tp1_context_emb_vec: {}\".format(self.tensorDict['p1_context_emb_vec']))\n",
    "        self.logger.info(\"\\tp2_emb_focus_matrix: {}\".format(self.tensorDict['p2_emb_focus_matrix']))\n",
    "        self.logger.info(\"\\tp2_focus_emb_vec: {}\".format(self.tensorDict['p2_focus_emb_vec']))\n",
    "        self.logger.info(\"\\tp2_emb_context_matrix: {}\".format(self.tensorDict['p2_emb_context_matrix']))\n",
    "        self.logger.info(\"\\tp2_context_emb_vec: {}\".format(self.tensorDict['p2_context_emb_vec']))\n",
    "                    \n",
    "        self.logger.info(\"\\n[LOSS]\")\n",
    "        self.logger.info(\"\\tloss_1st_prox: {}\".format(self.tensorDict['loss_1st_prox']))\n",
    "        self.logger.info(\"\\tloss_2nd_prox: {}\".format(self.tensorDict['loss_2nd_prox']))\n",
    "        \n",
    "        ## summary\n",
    "        tf.summary.scalar('lr_p1', self.tensorDict['lr_p1'])\n",
    "        tf.summary.scalar('lr_p2', self.tensorDict['lr_p2'])\n",
    "        tf.summary.scalar('loss_1st_prox', self.tensorDict['loss_1st_prox'])\n",
    "        tf.summary.scalar('loss_2nd_prox', self.tensorDict['loss_2nd_prox'])\n",
    "        \n",
    "    def Building_graph(self):\n",
    "        with self.g.as_default():\n",
    "            self._basic_tensors()\n",
    "            self._input_layer_tensors()\n",
    "            self._Inference()\n",
    "            self._Loss()\n",
    "            self._Optimizer()\n",
    "            self._get_logger()\n",
    "            self._Summary()\n",
    "\n",
    "def get_model_list(param_dict):\n",
    "    ##make flag_list\n",
    "    flag_grid = param_dict_to_flag_grid(param_dict)\n",
    "    flag_list = get_flag_list(flag_grid, param_dict['DATASETS'].info['FEATURE_SIZE'])\n",
    "    \n",
    "    ##get model_list\n",
    "    MODEL_DICT = {'LINE_MODEL': LINE_MODEL}\n",
    "    \n",
    "    model_list = []\n",
    "    for m_idx, flag in enumerate(flag_list):\n",
    "        flag['MODEL_NAME'] = 'MODEL_{}'.format(m_idx+1)\n",
    "        model_list.append(MODEL_DICT[flag['MODEL_ARCH']](flag))\n",
    "    return model_list\n",
    "\n",
    "model_list = get_model_list(param_dict)\n",
    "model_list"
   ]
  },
  {
   "cell_type": "code",
   "execution_count": null,
   "metadata": {},
   "outputs": [],
   "source": []
  },
  {
   "cell_type": "code",
   "execution_count": null,
   "metadata": {},
   "outputs": [],
   "source": []
  },
  {
   "cell_type": "code",
   "execution_count": null,
   "metadata": {},
   "outputs": [],
   "source": []
  },
  {
   "cell_type": "code",
   "execution_count": null,
   "metadata": {},
   "outputs": [],
   "source": []
  }
 ],
 "metadata": {
  "kernelspec": {
   "display_name": "Python 3",
   "language": "python",
   "name": "python3"
  },
  "language_info": {
   "codemirror_mode": {
    "name": "ipython",
    "version": 3
   },
   "file_extension": ".py",
   "mimetype": "text/x-python",
   "name": "python",
   "nbconvert_exporter": "python",
   "pygments_lexer": "ipython3",
   "version": "3.6.6"
  }
 },
 "nbformat": 4,
 "nbformat_minor": 2
}
