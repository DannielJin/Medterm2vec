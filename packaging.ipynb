{
 "cells": [
  {
   "cell_type": "code",
   "execution_count": 1,
   "metadata": {},
   "outputs": [
    {
     "name": "stdout",
     "output_type": "stream",
     "text": [
      "Uninstalling medterm2vec-1.0:\n",
      "  Successfully uninstalled medterm2vec-1.0\n",
      "\u001b[33mYou are using pip version 18.0, however version 18.1 is available.\n",
      "You should consider upgrading via the 'pip install --upgrade pip' command.\u001b[0m\n"
     ]
    }
   ],
   "source": [
    "! pip3 uninstall dist/* -y"
   ]
  },
  {
   "cell_type": "code",
   "execution_count": 2,
   "metadata": {},
   "outputs": [
    {
     "name": "stdout",
     "output_type": "stream",
     "text": [
      "Overwriting setup.py\n"
     ]
    }
   ],
   "source": [
    "%%writefile setup.py\n",
    "from setuptools import setup, find_packages\n",
    "\n",
    "setup(\n",
    "    name             = 'medterm2vec',\n",
    "    version          = '1.0',\n",
    "    description      = 'medterm2vec ',\n",
    "    long_description = open('README.md').read(),\n",
    "    author           = 'Sanghyung Jin, Yourim Lee, Rae Woong Park',\n",
    "    author_email     = 'jsh90612@gmail.com, urimeeee.e.gmail.com, rwpark99@gmail.com',\n",
    "    url              = '',\n",
    "    download_url     = '',\n",
    "    install_requires = ['tensorflow', 'pandas', 'sklearn', 'scipy', 'numpy'],\n",
    "    packages         = find_packages(exclude=[\"test*\"]),\n",
    "    keywords         = ['medical', 'sequence', 'embedding', 'machine learning', 'graph'],\n",
    "    python_requires  = '>=3',\n",
    "    package_data     = {},\n",
    "    zip_safe=False,\n",
    "    classifiers      = [\n",
    "        'Programming Language :: Python :: 3',\n",
    "        'Programming Language :: Python :: 3.2',\n",
    "        'Programming Language :: Python :: 3.3',\n",
    "        'Programming Language :: Python :: 3.4',\n",
    "        'Programming Language :: Python :: 3.5',\n",
    "        'Programming Language :: Python :: 3.6'\n",
    "    ]\n",
    ")"
   ]
  },
  {
   "cell_type": "code",
   "execution_count": 3,
   "metadata": {},
   "outputs": [
    {
     "name": "stdout",
     "output_type": "stream",
     "text": [
      "Overwriting setup.cfg\n"
     ]
    }
   ],
   "source": [
    "%%writefile setup.cfg\n",
    "[metadata]\n",
    "description-file = README.md"
   ]
  },
  {
   "cell_type": "code",
   "execution_count": 4,
   "metadata": {},
   "outputs": [
    {
     "name": "stdout",
     "output_type": "stream",
     "text": [
      "Overwriting MANIFEST.in\n"
     ]
    }
   ],
   "source": [
    "%%writefile MANIFEST.in\n",
    "#include LICENSE\n",
    "include README.md\n",
    "#include requirements.txt"
   ]
  },
  {
   "cell_type": "code",
   "execution_count": 5,
   "metadata": {
    "scrolled": true
   },
   "outputs": [
    {
     "name": "stdout",
     "output_type": "stream",
     "text": [
      "running test\n",
      "running egg_info\n",
      "writing medterm2vec.egg-info/PKG-INFO\n",
      "writing dependency_links to medterm2vec.egg-info/dependency_links.txt\n",
      "writing requirements to medterm2vec.egg-info/requires.txt\n",
      "writing top-level names to medterm2vec.egg-info/top_level.txt\n",
      "reading manifest file 'medterm2vec.egg-info/SOURCES.txt'\n",
      "reading manifest template 'MANIFEST.in'\n",
      "writing manifest file 'medterm2vec.egg-info/SOURCES.txt'\n",
      "running build_ext\n",
      "\n",
      "----------------------------------------------------------------------\n",
      "Ran 0 tests in 0.000s\n",
      "\n",
      "OK\n"
     ]
    }
   ],
   "source": [
    "! python3 setup.py test"
   ]
  },
  {
   "cell_type": "code",
   "execution_count": 6,
   "metadata": {
    "scrolled": true
   },
   "outputs": [
    {
     "name": "stdout",
     "output_type": "stream",
     "text": [
      "running bdist_wheel\n",
      "running build\n",
      "running build_py\n",
      "installing to build/bdist.macosx-10.9-x86_64/wheel\n",
      "running install\n",
      "running install_lib\n",
      "creating build/bdist.macosx-10.9-x86_64/wheel\n",
      "creating build/bdist.macosx-10.9-x86_64/wheel/medterm2vec\n",
      "copying build/lib/medterm2vec/dl_ops.py -> build/bdist.macosx-10.9-x86_64/wheel/medterm2vec\n",
      "copying build/lib/medterm2vec/emb_dataset.py -> build/bdist.macosx-10.9-x86_64/wheel/medterm2vec\n",
      "copying build/lib/medterm2vec/__init__.py -> build/bdist.macosx-10.9-x86_64/wheel/medterm2vec\n",
      "copying build/lib/medterm2vec/model.py -> build/bdist.macosx-10.9-x86_64/wheel/medterm2vec\n",
      "copying build/lib/medterm2vec/utils.py -> build/bdist.macosx-10.9-x86_64/wheel/medterm2vec\n",
      "copying build/lib/medterm2vec/pipeline.py -> build/bdist.macosx-10.9-x86_64/wheel/medterm2vec\n",
      "copying build/lib/medterm2vec/train.py -> build/bdist.macosx-10.9-x86_64/wheel/medterm2vec\n",
      "copying build/lib/medterm2vec/report.py -> build/bdist.macosx-10.9-x86_64/wheel/medterm2vec\n",
      "creating build/bdist.macosx-10.9-x86_64/wheel/sequence_analyzer\n",
      "running install_egg_info\n",
      "running egg_info\n",
      "writing medterm2vec.egg-info/PKG-INFO\n",
      "writing dependency_links to medterm2vec.egg-info/dependency_links.txt\n",
      "writing requirements to medterm2vec.egg-info/requires.txt\n",
      "writing top-level names to medterm2vec.egg-info/top_level.txt\n",
      "reading manifest file 'medterm2vec.egg-info/SOURCES.txt'\n",
      "reading manifest template 'MANIFEST.in'\n",
      "writing manifest file 'medterm2vec.egg-info/SOURCES.txt'\n",
      "Copying medterm2vec.egg-info to build/bdist.macosx-10.9-x86_64/wheel/medterm2vec-1.0-py3.6.egg-info\n",
      "running install_scripts\n",
      "creating build/bdist.macosx-10.9-x86_64/wheel/medterm2vec-1.0.dist-info/WHEEL\n",
      "creating '/Users/danniel_jin/FILES/SCRIPTS/PROJECTS/GIT/medterm2vec/dist/medterm2vec-1.0-py3-none-any.whl' and adding '.' to it\n",
      "adding 'medterm2vec/__init__.py'\n",
      "adding 'medterm2vec/dl_ops.py'\n",
      "adding 'medterm2vec/emb_dataset.py'\n",
      "adding 'medterm2vec/model.py'\n",
      "adding 'medterm2vec/pipeline.py'\n",
      "adding 'medterm2vec/report.py'\n",
      "adding 'medterm2vec/train.py'\n",
      "adding 'medterm2vec/utils.py'\n",
      "adding 'medterm2vec-1.0.dist-info/top_level.txt'\n",
      "adding 'medterm2vec-1.0.dist-info/WHEEL'\n",
      "adding 'medterm2vec-1.0.dist-info/METADATA'\n",
      "adding 'medterm2vec-1.0.dist-info/RECORD'\n",
      "removing build/bdist.macosx-10.9-x86_64/wheel\n"
     ]
    }
   ],
   "source": [
    "! python3 setup.py bdist_wheel"
   ]
  },
  {
   "cell_type": "code",
   "execution_count": 7,
   "metadata": {
    "scrolled": true
   },
   "outputs": [
    {
     "name": "stdout",
     "output_type": "stream",
     "text": [
      "Processing ./dist/medterm2vec-1.0-py3-none-any.whl\n",
      "Requirement already satisfied: tensorflow in /Library/Frameworks/Python.framework/Versions/3.6/lib/python3.6/site-packages (from medterm2vec==1.0) (1.9.0)\n",
      "Requirement already satisfied: pandas in /Library/Frameworks/Python.framework/Versions/3.6/lib/python3.6/site-packages (from medterm2vec==1.0) (0.23.3)\n",
      "Requirement already satisfied: scipy in /Library/Frameworks/Python.framework/Versions/3.6/lib/python3.6/site-packages (from medterm2vec==1.0) (1.1.0)\n",
      "Requirement already satisfied: numpy in /Library/Frameworks/Python.framework/Versions/3.6/lib/python3.6/site-packages (from medterm2vec==1.0) (1.14.5)\n",
      "Requirement already satisfied: sklearn in /Library/Frameworks/Python.framework/Versions/3.6/lib/python3.6/site-packages (from medterm2vec==1.0) (0.0)\n",
      "Requirement already satisfied: protobuf>=3.4.0 in /Library/Frameworks/Python.framework/Versions/3.6/lib/python3.6/site-packages (from tensorflow->medterm2vec==1.0) (3.6.0)\n",
      "Requirement already satisfied: wheel>=0.26 in /Library/Frameworks/Python.framework/Versions/3.6/lib/python3.6/site-packages (from tensorflow->medterm2vec==1.0) (0.31.1)\n",
      "Requirement already satisfied: grpcio>=1.8.6 in /Library/Frameworks/Python.framework/Versions/3.6/lib/python3.6/site-packages (from tensorflow->medterm2vec==1.0) (1.13.0)\n",
      "Requirement already satisfied: six>=1.10.0 in /Library/Frameworks/Python.framework/Versions/3.6/lib/python3.6/site-packages (from tensorflow->medterm2vec==1.0) (1.11.0)\n",
      "Requirement already satisfied: termcolor>=1.1.0 in /Library/Frameworks/Python.framework/Versions/3.6/lib/python3.6/site-packages (from tensorflow->medterm2vec==1.0) (1.1.0)\n",
      "Requirement already satisfied: astor>=0.6.0 in /Library/Frameworks/Python.framework/Versions/3.6/lib/python3.6/site-packages (from tensorflow->medterm2vec==1.0) (0.7.1)\n",
      "Requirement already satisfied: absl-py>=0.1.6 in /Library/Frameworks/Python.framework/Versions/3.6/lib/python3.6/site-packages (from tensorflow->medterm2vec==1.0) (0.2.2)\n",
      "Requirement already satisfied: gast>=0.2.0 in /Library/Frameworks/Python.framework/Versions/3.6/lib/python3.6/site-packages (from tensorflow->medterm2vec==1.0) (0.2.0)\n",
      "Requirement already satisfied: setuptools<=39.1.0 in /Library/Frameworks/Python.framework/Versions/3.6/lib/python3.6/site-packages (from tensorflow->medterm2vec==1.0) (39.0.1)\n",
      "Requirement already satisfied: tensorboard<1.10.0,>=1.9.0 in /Library/Frameworks/Python.framework/Versions/3.6/lib/python3.6/site-packages (from tensorflow->medterm2vec==1.0) (1.9.0)\n",
      "Requirement already satisfied: pytz>=2011k in /Library/Frameworks/Python.framework/Versions/3.6/lib/python3.6/site-packages (from pandas->medterm2vec==1.0) (2018.5)\n",
      "Requirement already satisfied: python-dateutil>=2.5.0 in /Library/Frameworks/Python.framework/Versions/3.6/lib/python3.6/site-packages (from pandas->medterm2vec==1.0) (2.7.3)\n",
      "Requirement already satisfied: scikit-learn in /Library/Frameworks/Python.framework/Versions/3.6/lib/python3.6/site-packages (from sklearn->medterm2vec==1.0) (0.19.1)\n",
      "Requirement already satisfied: markdown>=2.6.8 in /Library/Frameworks/Python.framework/Versions/3.6/lib/python3.6/site-packages (from tensorboard<1.10.0,>=1.9.0->tensorflow->medterm2vec==1.0) (2.6.11)\n",
      "Requirement already satisfied: werkzeug>=0.11.10 in /Library/Frameworks/Python.framework/Versions/3.6/lib/python3.6/site-packages (from tensorboard<1.10.0,>=1.9.0->tensorflow->medterm2vec==1.0) (0.14.1)\n",
      "Installing collected packages: medterm2vec\n",
      "Successfully installed medterm2vec-1.0\n",
      "\u001b[33mYou are using pip version 18.0, however version 18.1 is available.\n",
      "You should consider upgrading via the 'pip install --upgrade pip' command.\u001b[0m\n"
     ]
    }
   ],
   "source": [
    "! pip3 install dist/*"
   ]
  },
  {
   "cell_type": "code",
   "execution_count": null,
   "metadata": {},
   "outputs": [],
   "source": []
  },
  {
   "cell_type": "code",
   "execution_count": null,
   "metadata": {},
   "outputs": [],
   "source": []
  },
  {
   "cell_type": "code",
   "execution_count": null,
   "metadata": {},
   "outputs": [],
   "source": []
  },
  {
   "cell_type": "code",
   "execution_count": null,
   "metadata": {},
   "outputs": [],
   "source": []
  },
  {
   "cell_type": "code",
   "execution_count": null,
   "metadata": {},
   "outputs": [],
   "source": []
  },
  {
   "cell_type": "code",
   "execution_count": null,
   "metadata": {},
   "outputs": [],
   "source": []
  }
 ],
 "metadata": {
  "kernelspec": {
   "display_name": "Python 3",
   "language": "python",
   "name": "python3"
  },
  "language_info": {
   "codemirror_mode": {
    "name": "ipython",
    "version": 3
   },
   "file_extension": ".py",
   "mimetype": "text/x-python",
   "name": "python",
   "nbconvert_exporter": "python",
   "pygments_lexer": "ipython3",
   "version": "3.6.6"
  }
 },
 "nbformat": 4,
 "nbformat_minor": 2
}
